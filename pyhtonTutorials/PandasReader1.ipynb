{
 "cells": [
  {
   "cell_type": "code",
   "execution_count": 1,
   "outputs": [
    {
     "name": "stdout",
     "output_type": "stream",
     "text": [
      "Hello world!\n"
     ]
    }
   ],
   "source": [
    "print(\"Hello world!\")"
   ],
   "metadata": {
    "collapsed": false,
    "pycharm": {
     "name": "#%%\n"
    }
   }
  },
  {
   "cell_type": "code",
   "execution_count": 2,
   "outputs": [
    {
     "data": {
      "text/plain": "       salary          city   age vacation_preference transport_preference  \\\n0    196000.0     Краснодар  25.0             Шоппинг           Автомобиль   \n1    152000.0  Екатеринбург  60.0         Архитектура              Самолет   \n2     83000.0         Томск  49.0         Архитектура           Автомобиль   \n3    161000.0     Краснодар  41.0             Шоппинг           Автомобиль   \n4    146000.0     Краснодар  58.0         Архитектура              Самолет   \n..        ...           ...   ...                 ...                  ...   \n995   81000.0     Краснодар  55.0       Пляжный отдых    Морской транспорт   \n996   96000.0     Краснодар  32.0         Архитектура                Поезд   \n997   56000.0     Краснодар  68.0         Архитектура              Самолет   \n998  162000.0     Краснодар  69.0         Архитектура              Самолет   \n999  171000.0     Краснодар  35.0         Архитектура           Автомобиль   \n\n     family_members    target  \n0               1.0  New York  \n1               1.0    London  \n2               2.0    Sydney  \n3               0.0  New York  \n4               1.0    Sydney  \n..              ...       ...  \n995             2.0     Paris  \n996             1.0     Paris  \n997             2.0     Paris  \n998             0.0    Sydney  \n999             1.0  New York  \n\n[1000 rows x 7 columns]",
      "text/html": "<div>\n<style scoped>\n    .dataframe tbody tr th:only-of-type {\n        vertical-align: middle;\n    }\n\n    .dataframe tbody tr th {\n        vertical-align: top;\n    }\n\n    .dataframe thead th {\n        text-align: right;\n    }\n</style>\n<table border=\"1\" class=\"dataframe\">\n  <thead>\n    <tr style=\"text-align: right;\">\n      <th></th>\n      <th>salary</th>\n      <th>city</th>\n      <th>age</th>\n      <th>vacation_preference</th>\n      <th>transport_preference</th>\n      <th>family_members</th>\n      <th>target</th>\n    </tr>\n  </thead>\n  <tbody>\n    <tr>\n      <th>0</th>\n      <td>196000.0</td>\n      <td>Краснодар</td>\n      <td>25.0</td>\n      <td>Шоппинг</td>\n      <td>Автомобиль</td>\n      <td>1.0</td>\n      <td>New York</td>\n    </tr>\n    <tr>\n      <th>1</th>\n      <td>152000.0</td>\n      <td>Екатеринбург</td>\n      <td>60.0</td>\n      <td>Архитектура</td>\n      <td>Самолет</td>\n      <td>1.0</td>\n      <td>London</td>\n    </tr>\n    <tr>\n      <th>2</th>\n      <td>83000.0</td>\n      <td>Томск</td>\n      <td>49.0</td>\n      <td>Архитектура</td>\n      <td>Автомобиль</td>\n      <td>2.0</td>\n      <td>Sydney</td>\n    </tr>\n    <tr>\n      <th>3</th>\n      <td>161000.0</td>\n      <td>Краснодар</td>\n      <td>41.0</td>\n      <td>Шоппинг</td>\n      <td>Автомобиль</td>\n      <td>0.0</td>\n      <td>New York</td>\n    </tr>\n    <tr>\n      <th>4</th>\n      <td>146000.0</td>\n      <td>Краснодар</td>\n      <td>58.0</td>\n      <td>Архитектура</td>\n      <td>Самолет</td>\n      <td>1.0</td>\n      <td>Sydney</td>\n    </tr>\n    <tr>\n      <th>...</th>\n      <td>...</td>\n      <td>...</td>\n      <td>...</td>\n      <td>...</td>\n      <td>...</td>\n      <td>...</td>\n      <td>...</td>\n    </tr>\n    <tr>\n      <th>995</th>\n      <td>81000.0</td>\n      <td>Краснодар</td>\n      <td>55.0</td>\n      <td>Пляжный отдых</td>\n      <td>Морской транспорт</td>\n      <td>2.0</td>\n      <td>Paris</td>\n    </tr>\n    <tr>\n      <th>996</th>\n      <td>96000.0</td>\n      <td>Краснодар</td>\n      <td>32.0</td>\n      <td>Архитектура</td>\n      <td>Поезд</td>\n      <td>1.0</td>\n      <td>Paris</td>\n    </tr>\n    <tr>\n      <th>997</th>\n      <td>56000.0</td>\n      <td>Краснодар</td>\n      <td>68.0</td>\n      <td>Архитектура</td>\n      <td>Самолет</td>\n      <td>2.0</td>\n      <td>Paris</td>\n    </tr>\n    <tr>\n      <th>998</th>\n      <td>162000.0</td>\n      <td>Краснодар</td>\n      <td>69.0</td>\n      <td>Архитектура</td>\n      <td>Самолет</td>\n      <td>0.0</td>\n      <td>Sydney</td>\n    </tr>\n    <tr>\n      <th>999</th>\n      <td>171000.0</td>\n      <td>Краснодар</td>\n      <td>35.0</td>\n      <td>Архитектура</td>\n      <td>Автомобиль</td>\n      <td>1.0</td>\n      <td>New York</td>\n    </tr>\n  </tbody>\n</table>\n<p>1000 rows × 7 columns</p>\n</div>"
     },
     "execution_count": 2,
     "metadata": {},
     "output_type": "execute_result"
    }
   ],
   "source": [
    "import pandas as pd\n",
    "pd.read_excel(\"trips_data.xlsx\")"
   ],
   "metadata": {
    "collapsed": false,
    "pycharm": {
     "name": "#%%\n"
    }
   }
  },
  {
   "cell_type": "code",
   "execution_count": 3,
   "outputs": [
    {
     "data": {
      "text/plain": "     salary          city   age vacation_preference transport_preference  \\\n0  196000.0     Краснодар  25.0             Шоппинг           Автомобиль   \n1  152000.0  Екатеринбург  60.0         Архитектура              Самолет   \n\n   family_members    target  \n0             1.0  New York  \n1             1.0    London  ",
      "text/html": "<div>\n<style scoped>\n    .dataframe tbody tr th:only-of-type {\n        vertical-align: middle;\n    }\n\n    .dataframe tbody tr th {\n        vertical-align: top;\n    }\n\n    .dataframe thead th {\n        text-align: right;\n    }\n</style>\n<table border=\"1\" class=\"dataframe\">\n  <thead>\n    <tr style=\"text-align: right;\">\n      <th></th>\n      <th>salary</th>\n      <th>city</th>\n      <th>age</th>\n      <th>vacation_preference</th>\n      <th>transport_preference</th>\n      <th>family_members</th>\n      <th>target</th>\n    </tr>\n  </thead>\n  <tbody>\n    <tr>\n      <th>0</th>\n      <td>196000.0</td>\n      <td>Краснодар</td>\n      <td>25.0</td>\n      <td>Шоппинг</td>\n      <td>Автомобиль</td>\n      <td>1.0</td>\n      <td>New York</td>\n    </tr>\n    <tr>\n      <th>1</th>\n      <td>152000.0</td>\n      <td>Екатеринбург</td>\n      <td>60.0</td>\n      <td>Архитектура</td>\n      <td>Самолет</td>\n      <td>1.0</td>\n      <td>London</td>\n    </tr>\n  </tbody>\n</table>\n</div>"
     },
     "execution_count": 3,
     "metadata": {},
     "output_type": "execute_result"
    }
   ],
   "source": [
    "trips_data = pd.read_excel(\"trips_data.xlsx\")\n",
    "trips_data.head(2)"
   ],
   "metadata": {
    "collapsed": false,
    "pycharm": {
     "name": "#%%\n"
    }
   }
  },
  {
   "cell_type": "code",
   "execution_count": 4,
   "outputs": [
    {
     "data": {
      "text/plain": "              salary          age  family_members\ncount    1000.000000  1000.000000     1000.000000\nmean   111935.000000    55.209000        1.295000\nstd     54580.049073    11.925164        0.885867\nmin         0.000000    18.000000        0.000000\n25%     68000.000000    50.000000        1.000000\n50%     99000.000000    58.000000        1.000000\n75%    161000.000000    63.000000        2.000000\nmax    250000.000000    82.000000        4.000000",
      "text/html": "<div>\n<style scoped>\n    .dataframe tbody tr th:only-of-type {\n        vertical-align: middle;\n    }\n\n    .dataframe tbody tr th {\n        vertical-align: top;\n    }\n\n    .dataframe thead th {\n        text-align: right;\n    }\n</style>\n<table border=\"1\" class=\"dataframe\">\n  <thead>\n    <tr style=\"text-align: right;\">\n      <th></th>\n      <th>salary</th>\n      <th>age</th>\n      <th>family_members</th>\n    </tr>\n  </thead>\n  <tbody>\n    <tr>\n      <th>count</th>\n      <td>1000.000000</td>\n      <td>1000.000000</td>\n      <td>1000.000000</td>\n    </tr>\n    <tr>\n      <th>mean</th>\n      <td>111935.000000</td>\n      <td>55.209000</td>\n      <td>1.295000</td>\n    </tr>\n    <tr>\n      <th>std</th>\n      <td>54580.049073</td>\n      <td>11.925164</td>\n      <td>0.885867</td>\n    </tr>\n    <tr>\n      <th>min</th>\n      <td>0.000000</td>\n      <td>18.000000</td>\n      <td>0.000000</td>\n    </tr>\n    <tr>\n      <th>25%</th>\n      <td>68000.000000</td>\n      <td>50.000000</td>\n      <td>1.000000</td>\n    </tr>\n    <tr>\n      <th>50%</th>\n      <td>99000.000000</td>\n      <td>58.000000</td>\n      <td>1.000000</td>\n    </tr>\n    <tr>\n      <th>75%</th>\n      <td>161000.000000</td>\n      <td>63.000000</td>\n      <td>2.000000</td>\n    </tr>\n    <tr>\n      <th>max</th>\n      <td>250000.000000</td>\n      <td>82.000000</td>\n      <td>4.000000</td>\n    </tr>\n  </tbody>\n</table>\n</div>"
     },
     "execution_count": 4,
     "metadata": {},
     "output_type": "execute_result"
    }
   ],
   "source": [
    "trips_data.describe()"
   ],
   "metadata": {
    "collapsed": false,
    "pycharm": {
     "name": "#%%\n"
    }
   }
  },
  {
   "cell_type": "code",
   "execution_count": 5,
   "outputs": [
    {
     "data": {
      "text/plain": "0      196000.0\n1      152000.0\n2       83000.0\n3      161000.0\n4      146000.0\n         ...   \n995     81000.0\n996     96000.0\n997     56000.0\n998    162000.0\n999    171000.0\nName: salary, Length: 1000, dtype: float64"
     },
     "execution_count": 5,
     "metadata": {},
     "output_type": "execute_result"
    }
   ],
   "source": [
    "trips_data.salary"
   ],
   "metadata": {
    "collapsed": false,
    "pycharm": {
     "name": "#%%\n"
    }
   }
  },
  {
   "cell_type": "code",
   "execution_count": 6,
   "outputs": [
    {
     "data": {
      "text/plain": "<AxesSubplot:>"
     },
     "execution_count": 6,
     "metadata": {},
     "output_type": "execute_result"
    },
    {
     "data": {
      "text/plain": "<Figure size 432x288 with 1 Axes>",
      "image/png": "[encoded data removed]"
     },
     "metadata": {
      "needs_background": "light"
     },
     "output_type": "display_data"
    }
   ],
   "source": [
    "trips_data.salary.hist()"
   ],
   "metadata": {
    "collapsed": false,
    "pycharm": {
     "name": "#%%\n"
    }
   }
  },
  {
   "cell_type": "code",
   "execution_count": 7,
   "outputs": [
    {
     "data": {
      "text/plain": "<AxesSubplot:>"
     },
     "execution_count": 7,
     "metadata": {},
     "output_type": "execute_result"
    },
    {
     "data": {
      "text/plain": "<Figure size 432x288 with 1 Axes>",
      "image/png": "[encoded data removed]"
     },
     "metadata": {
      "needs_background": "light"
     },
     "output_type": "display_data"
    }
   ],
   "source": [
    "trips_data.age.hist()"
   ],
   "metadata": {
    "collapsed": false,
    "pycharm": {
     "name": "#%%\n"
    }
   }
  },
  {
   "cell_type": "code",
   "execution_count": 8,
   "outputs": [
    {
     "data": {
      "text/plain": "Краснодар       307\nТомск           267\nХабаровск       107\nКиев            106\nОмск             84\nЕкатеринбург     67\nНовосибирск      33\nМинск            14\nПетербург        13\nЯрославль         1\nМосква            1\nName: city, dtype: int64"
     },
     "execution_count": 8,
     "metadata": {},
     "output_type": "execute_result"
    }
   ],
   "source": [
    "trips_data.city.value_counts()"
   ],
   "metadata": {
    "collapsed": false,
    "pycharm": {
     "name": "#%%\n"
    }
   }
  },
  {
   "cell_type": "code",
   "execution_count": 9,
   "outputs": [
    {
     "data": {
      "text/plain": "Архитектура      457\nШоппинг          334\nПляжный отдых    208\nНочные клубы       1\nName: vacation_preference, dtype: int64"
     },
     "execution_count": 9,
     "metadata": {},
     "output_type": "execute_result"
    }
   ],
   "source": [
    "trips_data.vacation_preference.value_counts()"
   ],
   "metadata": {
    "collapsed": false,
    "pycharm": {
     "name": "#%%\n"
    }
   }
  },
  {
   "cell_type": "code",
   "execution_count": 10,
   "outputs": [
    {
     "data": {
      "text/plain": "<AxesSubplot:>"
     },
     "execution_count": 10,
     "metadata": {},
     "output_type": "execute_result"
    },
    {
     "data": {
      "text/plain": "<Figure size 432x288 with 1 Axes>",
      "image/png": "[encoded data removed]"
     },
     "metadata": {
      "needs_background": "light"
     },
     "output_type": "display_data"
    }
   ],
   "source": [
    "trips_data.vacation_preference.value_counts().plot(kind=\"bar\")"
   ],
   "metadata": {
    "collapsed": false,
    "pycharm": {
     "name": "#%%\n"
    }
   }
  },
  {
   "cell_type": "code",
   "execution_count": 11,
   "outputs": [
    {
     "data": {
      "text/plain": "       salary   age vacation_preference transport_preference  family_members  \\\n0    196000.0  25.0             Шоппинг           Автомобиль             1.0   \n1    152000.0  60.0         Архитектура              Самолет             1.0   \n2     83000.0  49.0         Архитектура           Автомобиль             2.0   \n3    161000.0  41.0             Шоппинг           Автомобиль             0.0   \n4    146000.0  58.0         Архитектура              Самолет             1.0   \n..        ...   ...                 ...                  ...             ...   \n995   81000.0  55.0       Пляжный отдых    Морской транспорт             2.0   \n996   96000.0  32.0         Архитектура                Поезд             1.0   \n997   56000.0  68.0         Архитектура              Самолет             2.0   \n998  162000.0  69.0         Архитектура              Самолет             0.0   \n999  171000.0  35.0         Архитектура           Автомобиль             1.0   \n\n       target  city_Екатеринбург  city_Киев  city_Краснодар  city_Минск  \\\n0    New York                  0          0               1           0   \n1      London                  1          0               0           0   \n2      Sydney                  0          0               0           0   \n3    New York                  0          0               1           0   \n4      Sydney                  0          0               1           0   \n..        ...                ...        ...             ...         ...   \n995     Paris                  0          0               1           0   \n996     Paris                  0          0               1           0   \n997     Paris                  0          0               1           0   \n998    Sydney                  0          0               1           0   \n999  New York                  0          0               1           0   \n\n     city_Москва  city_Новосибирск  city_Омск  city_Петербург  city_Томск  \\\n0              0                 0          0               0           0   \n1              0                 0          0               0           0   \n2              0                 0          0               0           1   \n3              0                 0          0               0           0   \n4              0                 0          0               0           0   \n..           ...               ...        ...             ...         ...   \n995            0                 0          0               0           0   \n996            0                 0          0               0           0   \n997            0                 0          0               0           0   \n998            0                 0          0               0           0   \n999            0                 0          0               0           0   \n\n     city_Хабаровск  city_Ярославль  \n0                 0               0  \n1                 0               0  \n2                 0               0  \n3                 0               0  \n4                 0               0  \n..              ...             ...  \n995               0               0  \n996               0               0  \n997               0               0  \n998               0               0  \n999               0               0  \n\n[1000 rows x 17 columns]",
      "text/html": "<div>\n<style scoped>\n    .dataframe tbody tr th:only-of-type {\n        vertical-align: middle;\n    }\n\n    .dataframe tbody tr th {\n        vertical-align: top;\n    }\n\n    .dataframe thead th {\n        text-align: right;\n    }\n</style>\n<table border=\"1\" class=\"dataframe\">\n  <thead>\n    <tr style=\"text-align: right;\">\n      <th></th>\n      <th>salary</th>\n      <th>age</th>\n      <th>vacation_preference</th>\n      <th>transport_preference</th>\n      <th>family_members</th>\n      <th>target</th>\n      <th>city_Екатеринбург</th>\n      <th>city_Киев</th>\n      <th>city_Краснодар</th>\n      <th>city_Минск</th>\n      <th>city_Москва</th>\n      <th>city_Новосибирск</th>\n      <th>city_Омск</th>\n      <th>city_Петербург</th>\n      <th>city_Томск</th>\n      <th>city_Хабаровск</th>\n      <th>city_Ярославль</th>\n    </tr>\n  </thead>\n  <tbody>\n    <tr>\n      <th>0</th>\n      <td>196000.0</td>\n      <td>25.0</td>\n      <td>Шоппинг</td>\n      <td>Автомобиль</td>\n      <td>1.0</td>\n      <td>New York</td>\n      <td>0</td>\n      <td>0</td>\n      <td>1</td>\n      <td>0</td>\n      <td>0</td>\n      <td>0</td>\n      <td>0</td>\n      <td>0</td>\n      <td>0</td>\n      <td>0</td>\n      <td>0</td>\n    </tr>\n    <tr>\n      <th>1</th>\n      <td>152000.0</td>\n      <td>60.0</td>\n      <td>Архитектура</td>\n      <td>Самолет</td>\n      <td>1.0</td>\n      <td>London</td>\n      <td>1</td>\n      <td>0</td>\n      <td>0</td>\n      <td>0</td>\n      <td>0</td>\n      <td>0</td>\n      <td>0</td>\n      <td>0</td>\n      <td>0</td>\n      <td>0</td>\n      <td>0</td>\n    </tr>\n    <tr>\n      <th>2</th>\n      <td>83000.0</td>\n      <td>49.0</td>\n      <td>Архитектура</td>\n      <td>Автомобиль</td>\n      <td>2.0</td>\n      <td>Sydney</td>\n      <td>0</td>\n      <td>0</td>\n      <td>0</td>\n      <td>0</td>\n      <td>0</td>\n      <td>0</td>\n      <td>0</td>\n      <td>0</td>\n      <td>1</td>\n      <td>0</td>\n      <td>0</td>\n    </tr>\n    <tr>\n      <th>3</th>\n      <td>161000.0</td>\n      <td>41.0</td>\n      <td>Шоппинг</td>\n      <td>Автомобиль</td>\n      <td>0.0</td>\n      <td>New York</td>\n      <td>0</td>\n      <td>0</td>\n      <td>1</td>\n      <td>0</td>\n      <td>0</td>\n      <td>0</td>\n      <td>0</td>\n      <td>0</td>\n      <td>0</td>\n      <td>0</td>\n      <td>0</td>\n    </tr>\n    <tr>\n      <th>4</th>\n      <td>146000.0</td>\n      <td>58.0</td>\n      <td>Архитектура</td>\n      <td>Самолет</td>\n      <td>1.0</td>\n      <td>Sydney</td>\n      <td>0</td>\n      <td>0</td>\n      <td>1</td>\n      <td>0</td>\n      <td>0</td>\n      <td>0</td>\n      <td>0</td>\n      <td>0</td>\n      <td>0</td>\n      <td>0</td>\n      <td>0</td>\n    </tr>\n    <tr>\n      <th>...</th>\n      <td>...</td>\n      <td>...</td>\n      <td>...</td>\n      <td>...</td>\n      <td>...</td>\n      <td>...</td>\n      <td>...</td>\n      <td>...</td>\n      <td>...</td>\n      <td>...</td>\n      <td>...</td>\n      <td>...</td>\n      <td>...</td>\n      <td>...</td>\n      <td>...</td>\n      <td>...</td>\n      <td>...</td>\n    </tr>\n    <tr>\n      <th>995</th>\n      <td>81000.0</td>\n      <td>55.0</td>\n      <td>Пляжный отдых</td>\n      <td>Морской транспорт</td>\n      <td>2.0</td>\n      <td>Paris</td>\n      <td>0</td>\n      <td>0</td>\n      <td>1</td>\n      <td>0</td>\n      <td>0</td>\n      <td>0</td>\n      <td>0</td>\n      <td>0</td>\n      <td>0</td>\n      <td>0</td>\n      <td>0</td>\n    </tr>\n    <tr>\n      <th>996</th>\n      <td>96000.0</td>\n      <td>32.0</td>\n      <td>Архитектура</td>\n      <td>Поезд</td>\n      <td>1.0</td>\n      <td>Paris</td>\n      <td>0</td>\n      <td>0</td>\n      <td>1</td>\n      <td>0</td>\n      <td>0</td>\n      <td>0</td>\n      <td>0</td>\n      <td>0</td>\n      <td>0</td>\n      <td>0</td>\n      <td>0</td>\n    </tr>\n    <tr>\n      <th>997</th>\n      <td>56000.0</td>\n      <td>68.0</td>\n      <td>Архитектура</td>\n      <td>Самолет</td>\n      <td>2.0</td>\n      <td>Paris</td>\n      <td>0</td>\n      <td>0</td>\n      <td>1</td>\n      <td>0</td>\n      <td>0</td>\n      <td>0</td>\n      <td>0</td>\n      <td>0</td>\n      <td>0</td>\n      <td>0</td>\n      <td>0</td>\n    </tr>\n    <tr>\n      <th>998</th>\n      <td>162000.0</td>\n      <td>69.0</td>\n      <td>Архитектура</td>\n      <td>Самолет</td>\n      <td>0.0</td>\n      <td>Sydney</td>\n      <td>0</td>\n      <td>0</td>\n      <td>1</td>\n      <td>0</td>\n      <td>0</td>\n      <td>0</td>\n      <td>0</td>\n      <td>0</td>\n      <td>0</td>\n      <td>0</td>\n      <td>0</td>\n    </tr>\n    <tr>\n      <th>999</th>\n      <td>171000.0</td>\n      <td>35.0</td>\n      <td>Архитектура</td>\n      <td>Автомобиль</td>\n      <td>1.0</td>\n      <td>New York</td>\n      <td>0</td>\n      <td>0</td>\n      <td>1</td>\n      <td>0</td>\n      <td>0</td>\n      <td>0</td>\n      <td>0</td>\n      <td>0</td>\n      <td>0</td>\n      <td>0</td>\n      <td>0</td>\n    </tr>\n  </tbody>\n</table>\n<p>1000 rows × 17 columns</p>\n</div>"
     },
     "execution_count": 11,
     "metadata": {},
     "output_type": "execute_result"
    }
   ],
   "source": [
    "pd.get_dummies(trips_data, columns=[\"city\"])"
   ],
   "metadata": {
    "collapsed": false,
    "pycharm": {
     "name": "#%%\n"
    }
   }
  },
  {
   "cell_type": "code",
   "execution_count": 12,
   "outputs": [
    {
     "data": {
      "text/plain": "       salary   age  family_members    target  city_Екатеринбург  city_Киев  \\\n0    196000.0  25.0             1.0  New York                  0          0   \n1    152000.0  60.0             1.0    London                  1          0   \n2     83000.0  49.0             2.0    Sydney                  0          0   \n3    161000.0  41.0             0.0  New York                  0          0   \n4    146000.0  58.0             1.0    Sydney                  0          0   \n..        ...   ...             ...       ...                ...        ...   \n995   81000.0  55.0             2.0     Paris                  0          0   \n996   96000.0  32.0             1.0     Paris                  0          0   \n997   56000.0  68.0             2.0     Paris                  0          0   \n998  162000.0  69.0             0.0    Sydney                  0          0   \n999  171000.0  35.0             1.0  New York                  0          0   \n\n     city_Краснодар  city_Минск  city_Москва  city_Новосибирск  ...  \\\n0                 1           0            0                 0  ...   \n1                 0           0            0                 0  ...   \n2                 0           0            0                 0  ...   \n3                 1           0            0                 0  ...   \n4                 1           0            0                 0  ...   \n..              ...         ...          ...               ...  ...   \n995               1           0            0                 0  ...   \n996               1           0            0                 0  ...   \n997               1           0            0                 0  ...   \n998               1           0            0                 0  ...   \n999               1           0            0                 0  ...   \n\n     city_Ярославль  vacation_preference_Архитектура  \\\n0                 0                                0   \n1                 0                                1   \n2                 0                                1   \n3                 0                                0   \n4                 0                                1   \n..              ...                              ...   \n995               0                                0   \n996               0                                1   \n997               0                                1   \n998               0                                1   \n999               0                                1   \n\n     vacation_preference_Ночные клубы  vacation_preference_Пляжный отдых  \\\n0                                   0                                  0   \n1                                   0                                  0   \n2                                   0                                  0   \n3                                   0                                  0   \n4                                   0                                  0   \n..                                ...                                ...   \n995                                 0                                  1   \n996                                 0                                  0   \n997                                 0                                  0   \n998                                 0                                  0   \n999                                 0                                  0   \n\n     vacation_preference_Шоппинг  transport_preference_Автомобиль  \\\n0                              1                                1   \n1                              0                                0   \n2                              0                                1   \n3                              1                                1   \n4                              0                                0   \n..                           ...                              ...   \n995                            0                                0   \n996                            0                                0   \n997                            0                                0   \n998                            0                                0   \n999                            0                                1   \n\n     transport_preference_Космический корабль  \\\n0                                           0   \n1                                           0   \n2                                           0   \n3                                           0   \n4                                           0   \n..                                        ...   \n995                                         0   \n996                                         0   \n997                                         0   \n998                                         0   \n999                                         0   \n\n     transport_preference_Морской транспорт  transport_preference_Поезд  \\\n0                                         0                           0   \n1                                         0                           0   \n2                                         0                           0   \n3                                         0                           0   \n4                                         0                           0   \n..                                      ...                         ...   \n995                                       1                           0   \n996                                       0                           1   \n997                                       0                           0   \n998                                       0                           0   \n999                                       0                           0   \n\n     transport_preference_Самолет  \n0                               0  \n1                               1  \n2                               0  \n3                               0  \n4                               1  \n..                            ...  \n995                             0  \n996                             0  \n997                             1  \n998                             1  \n999                             0  \n\n[1000 rows x 24 columns]",
      "text/html": "<div>\n<style scoped>\n    .dataframe tbody tr th:only-of-type {\n        vertical-align: middle;\n    }\n\n    .dataframe tbody tr th {\n        vertical-align: top;\n    }\n\n    .dataframe thead th {\n        text-align: right;\n    }\n</style>\n<table border=\"1\" class=\"dataframe\">\n  <thead>\n    <tr style=\"text-align: right;\">\n      <th></th>\n      <th>salary</th>\n      <th>age</th>\n      <th>family_members</th>\n      <th>target</th>\n      <th>city_Екатеринбург</th>\n      <th>city_Киев</th>\n      <th>city_Краснодар</th>\n      <th>city_Минск</th>\n      <th>city_Москва</th>\n      <th>city_Новосибирск</th>\n      <th>...</th>\n      <th>city_Ярославль</th>\n      <th>vacation_preference_Архитектура</th>\n      <th>vacation_preference_Ночные клубы</th>\n      <th>vacation_preference_Пляжный отдых</th>\n      <th>vacation_preference_Шоппинг</th>\n      <th>transport_preference_Автомобиль</th>\n      <th>transport_preference_Космический корабль</th>\n      <th>transport_preference_Морской транспорт</th>\n      <th>transport_preference_Поезд</th>\n      <th>transport_preference_Самолет</th>\n    </tr>\n  </thead>\n  <tbody>\n    <tr>\n      <th>0</th>\n      <td>196000.0</td>\n      <td>25.0</td>\n      <td>1.0</td>\n      <td>New York</td>\n      <td>0</td>\n      <td>0</td>\n      <td>1</td>\n      <td>0</td>\n      <td>0</td>\n      <td>0</td>\n      <td>...</td>\n      <td>0</td>\n      <td>0</td>\n      <td>0</td>\n      <td>0</td>\n      <td>1</td>\n      <td>1</td>\n      <td>0</td>\n      <td>0</td>\n      <td>0</td>\n      <td>0</td>\n    </tr>\n    <tr>\n      <th>1</th>\n      <td>152000.0</td>\n      <td>60.0</td>\n      <td>1.0</td>\n      <td>London</td>\n      <td>1</td>\n      <td>0</td>\n      <td>0</td>\n      <td>0</td>\n      <td>0</td>\n      <td>0</td>\n      <td>...</td>\n      <td>0</td>\n      <td>1</td>\n      <td>0</td>\n      <td>0</td>\n      <td>0</td>\n      <td>0</td>\n      <td>0</td>\n      <td>0</td>\n      <td>0</td>\n      <td>1</td>\n    </tr>\n    <tr>\n      <th>2</th>\n      <td>83000.0</td>\n      <td>49.0</td>\n      <td>2.0</td>\n      <td>Sydney</td>\n      <td>0</td>\n      <td>0</td>\n      <td>0</td>\n      <td>0</td>\n      <td>0</td>\n      <td>0</td>\n      <td>...</td>\n      <td>0</td>\n      <td>1</td>\n      <td>0</td>\n      <td>0</td>\n      <td>0</td>\n      <td>1</td>\n      <td>0</td>\n      <td>0</td>\n      <td>0</td>\n      <td>0</td>\n    </tr>\n    <tr>\n      <th>3</th>\n      <td>161000.0</td>\n      <td>41.0</td>\n      <td>0.0</td>\n      <td>New York</td>\n      <td>0</td>\n      <td>0</td>\n      <td>1</td>\n      <td>0</td>\n      <td>0</td>\n      <td>0</td>\n      <td>...</td>\n      <td>0</td>\n      <td>0</td>\n      <td>0</td>\n      <td>0</td>\n      <td>1</td>\n      <td>1</td>\n      <td>0</td>\n      <td>0</td>\n      <td>0</td>\n      <td>0</td>\n    </tr>\n    <tr>\n      <th>4</th>\n      <td>146000.0</td>\n      <td>58.0</td>\n      <td>1.0</td>\n      <td>Sydney</td>\n      <td>0</td>\n      <td>0</td>\n      <td>1</td>\n      <td>0</td>\n      <td>0</td>\n      <td>0</td>\n      <td>...</td>\n      <td>0</td>\n      <td>1</td>\n      <td>0</td>\n      <td>0</td>\n      <td>0</td>\n      <td>0</td>\n      <td>0</td>\n      <td>0</td>\n      <td>0</td>\n      <td>1</td>\n    </tr>\n    <tr>\n      <th>...</th>\n      <td>...</td>\n      <td>...</td>\n      <td>...</td>\n      <td>...</td>\n      <td>...</td>\n      <td>...</td>\n      <td>...</td>\n      <td>...</td>\n      <td>...</td>\n      <td>...</td>\n      <td>...</td>\n      <td>...</td>\n      <td>...</td>\n      <td>...</td>\n      <td>...</td>\n      <td>...</td>\n      <td>...</td>\n      <td>...</td>\n      <td>...</td>\n      <td>...</td>\n      <td>...</td>\n    </tr>\n    <tr>\n      <th>995</th>\n      <td>81000.0</td>\n      <td>55.0</td>\n      <td>2.0</td>\n      <td>Paris</td>\n      <td>0</td>\n      <td>0</td>\n      <td>1</td>\n      <td>0</td>\n      <td>0</td>\n      <td>0</td>\n      <td>...</td>\n      <td>0</td>\n      <td>0</td>\n      <td>0</td>\n      <td>1</td>\n      <td>0</td>\n      <td>0</td>\n      <td>0</td>\n      <td>1</td>\n      <td>0</td>\n      <td>0</td>\n    </tr>\n    <tr>\n      <th>996</th>\n      <td>96000.0</td>\n      <td>32.0</td>\n      <td>1.0</td>\n      <td>Paris</td>\n      <td>0</td>\n      <td>0</td>\n      <td>1</td>\n      <td>0</td>\n      <td>0</td>\n      <td>0</td>\n      <td>...</td>\n      <td>0</td>\n      <td>1</td>\n      <td>0</td>\n      <td>0</td>\n      <td>0</td>\n      <td>0</td>\n      <td>0</td>\n      <td>0</td>\n      <td>1</td>\n      <td>0</td>\n    </tr>\n    <tr>\n      <th>997</th>\n      <td>56000.0</td>\n      <td>68.0</td>\n      <td>2.0</td>\n      <td>Paris</td>\n      <td>0</td>\n      <td>0</td>\n      <td>1</td>\n      <td>0</td>\n      <td>0</td>\n      <td>0</td>\n      <td>...</td>\n      <td>0</td>\n      <td>1</td>\n      <td>0</td>\n      <td>0</td>\n      <td>0</td>\n      <td>0</td>\n      <td>0</td>\n      <td>0</td>\n      <td>0</td>\n      <td>1</td>\n    </tr>\n    <tr>\n      <th>998</th>\n      <td>162000.0</td>\n      <td>69.0</td>\n      <td>0.0</td>\n      <td>Sydney</td>\n      <td>0</td>\n      <td>0</td>\n      <td>1</td>\n      <td>0</td>\n      <td>0</td>\n      <td>0</td>\n      <td>...</td>\n      <td>0</td>\n      <td>1</td>\n      <td>0</td>\n      <td>0</td>\n      <td>0</td>\n      <td>0</td>\n      <td>0</td>\n      <td>0</td>\n      <td>0</td>\n      <td>1</td>\n    </tr>\n    <tr>\n      <th>999</th>\n      <td>171000.0</td>\n      <td>35.0</td>\n      <td>1.0</td>\n      <td>New York</td>\n      <td>0</td>\n      <td>0</td>\n      <td>1</td>\n      <td>0</td>\n      <td>0</td>\n      <td>0</td>\n      <td>...</td>\n      <td>0</td>\n      <td>1</td>\n      <td>0</td>\n      <td>0</td>\n      <td>0</td>\n      <td>1</td>\n      <td>0</td>\n      <td>0</td>\n      <td>0</td>\n      <td>0</td>\n    </tr>\n  </tbody>\n</table>\n<p>1000 rows × 24 columns</p>\n</div>"
     },
     "execution_count": 12,
     "metadata": {},
     "output_type": "execute_result"
    }
   ],
   "source": [
    "pd.get_dummies(trips_data, columns=[\"city\", \"vacation_preference\", \"transport_preference\"])"
   ],
   "metadata": {
    "collapsed": false,
    "pycharm": {
     "name": "#%%\n"
    }
   }
  },
  {
   "cell_type": "code",
   "execution_count": 13,
   "outputs": [],
   "source": [
    "df = pd.get_dummies(trips_data, columns=[\"city\", \"vacation_preference\", \"transport_preference\"])\n",
    "df.shape\n",
    "(1000, 24)\n",
    "\n",
    "x = df.drop(\"target\", axis=1)\n",
    "y = df.target"
   ],
   "metadata": {
    "collapsed": false,
    "pycharm": {
     "name": "#%%\n"
    }
   }
  },
  {
   "cell_type": "code",
   "execution_count": 14,
   "outputs": [
    {
     "name": "stdout",
     "output_type": "stream",
     "text": [
      "Score =  0.241\n"
     ]
    },
    {
     "data": {
      "text/plain": "          London  New York  Paris  Sydney  Tokio\nLondon         1        64     42      59     33\nNew York       0        97     44      54      6\nParis          2        24     50      93     34\nSydney         0        60     51      53     34\nTokio          0        59     43      57     40",
      "text/html": "<div>\n<style scoped>\n    .dataframe tbody tr th:only-of-type {\n        vertical-align: middle;\n    }\n\n    .dataframe tbody tr th {\n        vertical-align: top;\n    }\n\n    .dataframe thead th {\n        text-align: right;\n    }\n</style>\n<table border=\"1\" class=\"dataframe\">\n  <thead>\n    <tr style=\"text-align: right;\">\n      <th></th>\n      <th>London</th>\n      <th>New York</th>\n      <th>Paris</th>\n      <th>Sydney</th>\n      <th>Tokio</th>\n    </tr>\n  </thead>\n  <tbody>\n    <tr>\n      <th>London</th>\n      <td>1</td>\n      <td>64</td>\n      <td>42</td>\n      <td>59</td>\n      <td>33</td>\n    </tr>\n    <tr>\n      <th>New York</th>\n      <td>0</td>\n      <td>97</td>\n      <td>44</td>\n      <td>54</td>\n      <td>6</td>\n    </tr>\n    <tr>\n      <th>Paris</th>\n      <td>2</td>\n      <td>24</td>\n      <td>50</td>\n      <td>93</td>\n      <td>34</td>\n    </tr>\n    <tr>\n      <th>Sydney</th>\n      <td>0</td>\n      <td>60</td>\n      <td>51</td>\n      <td>53</td>\n      <td>34</td>\n    </tr>\n    <tr>\n      <th>Tokio</th>\n      <td>0</td>\n      <td>59</td>\n      <td>43</td>\n      <td>57</td>\n      <td>40</td>\n    </tr>\n  </tbody>\n</table>\n</div>"
     },
     "execution_count": 14,
     "metadata": {},
     "output_type": "execute_result"
    }
   ],
   "source": [
    "from sklearn.linear_model import LogisticRegression\n",
    "from sklearn.ensemble import RandomForestClassifier\n",
    "from sklearn.metrics import confusion_matrix\n",
    "\n",
    "model = LogisticRegression()\n",
    "model.fit(x, y)\n",
    "score = model.score(x, y)\n",
    "print('Score = ', score)\n",
    "y_pred = model.predict(x)\n",
    "\n",
    "pd.DataFrame(data = confusion_matrix(y, y_pred), columns=model.classes_, index=model.classes_)"
   ],
   "metadata": {
    "collapsed": false,
    "pycharm": {
     "name": "#%%\n"
    }
   }
  },
  {
   "cell_type": "code",
   "execution_count": 15,
   "outputs": [
    {
     "name": "stdout",
     "output_type": "stream",
     "text": [
      "Score =  0.999\n"
     ]
    },
    {
     "data": {
      "text/plain": "          London  New York  Paris  Sydney  Tokio\nLondon       199         0      0       0      0\nNew York       0       201      0       0      0\nParis          0         0    203       0      0\nSydney         1         0      0     197      0\nTokio          0         0      0       0    199",
      "text/html": "<div>\n<style scoped>\n    .dataframe tbody tr th:only-of-type {\n        vertical-align: middle;\n    }\n\n    .dataframe tbody tr th {\n        vertical-align: top;\n    }\n\n    .dataframe thead th {\n        text-align: right;\n    }\n</style>\n<table border=\"1\" class=\"dataframe\">\n  <thead>\n    <tr style=\"text-align: right;\">\n      <th></th>\n      <th>London</th>\n      <th>New York</th>\n      <th>Paris</th>\n      <th>Sydney</th>\n      <th>Tokio</th>\n    </tr>\n  </thead>\n  <tbody>\n    <tr>\n      <th>London</th>\n      <td>199</td>\n      <td>0</td>\n      <td>0</td>\n      <td>0</td>\n      <td>0</td>\n    </tr>\n    <tr>\n      <th>New York</th>\n      <td>0</td>\n      <td>201</td>\n      <td>0</td>\n      <td>0</td>\n      <td>0</td>\n    </tr>\n    <tr>\n      <th>Paris</th>\n      <td>0</td>\n      <td>0</td>\n      <td>203</td>\n      <td>0</td>\n      <td>0</td>\n    </tr>\n    <tr>\n      <th>Sydney</th>\n      <td>1</td>\n      <td>0</td>\n      <td>0</td>\n      <td>197</td>\n      <td>0</td>\n    </tr>\n    <tr>\n      <th>Tokio</th>\n      <td>0</td>\n      <td>0</td>\n      <td>0</td>\n      <td>0</td>\n      <td>199</td>\n    </tr>\n  </tbody>\n</table>\n</div>"
     },
     "execution_count": 15,
     "metadata": {},
     "output_type": "execute_result"
    }
   ],
   "source": [
    "model = RandomForestClassifier()\n",
    "model.fit(x, y)\n",
    "score = model.score(x, y)\n",
    "print('Score = ', score)\n",
    "y_pred = model.predict(x)\n",
    "\n",
    "pd.DataFrame(data = confusion_matrix(y, y_pred), columns=model.classes_, index=model.classes_)"
   ],
   "metadata": {
    "collapsed": false,
    "pycharm": {
     "name": "#%%\n"
    }
   }
  },
  {
   "cell_type": "code",
   "execution_count": 16,
   "outputs": [
    {
     "data": {
      "text/plain": "    age     sex  cp  trestbps  chol  fbs  restecg  thalach  exang  oldpeak  \\\n0    63    male   3       145   233    1        0      150      0      2.3   \n1    37    male   2       130   250    0        1      187      0      3.5   \n2    41  female   1       130   204    0        0      172      0      1.4   \n3    56    male   1       120   236    0        1      178      0      0.8   \n4    57  female   0       120   354    0        1      163      1      0.6   \n5    57    male   0       140   192    0        1      148      0      0.4   \n6    56  female   1       140   294    0        0      153      0      1.3   \n7    44    male   1       120   263    0        1      173      0      0.0   \n8    52    male   2       172   199    1        1      162      0      0.5   \n9    57    male   2       150   168    0        1      174      0      1.6   \n10   54    male   0       140   239    0        1      160      0      1.2   \n11   48  female   2       130   275    0        1      139      0      0.2   \n12   49    male   1       130   266    0        1      171      0      0.6   \n13   64    male   3       110   211    0        0      144      1      1.8   \n14   58  female   3       150   283    1        0      162      0      1.0   \n\n    slope  ca  thal  target  \n0       0   0     1       1  \n1       0   0     2       1  \n2       2   0     2       1  \n3       2   0     2       1  \n4       2   0     2       1  \n5       1   0     1       1  \n6       1   0     2       1  \n7       2   0     3       1  \n8       2   0     3       1  \n9       2   0     2       1  \n10      2   0     2       1  \n11      2   0     2       1  \n12      2   0     2       1  \n13      1   0     2       1  \n14      2   0     2       1  ",
      "text/html": "<div>\n<style scoped>\n    .dataframe tbody tr th:only-of-type {\n        vertical-align: middle;\n    }\n\n    .dataframe tbody tr th {\n        vertical-align: top;\n    }\n\n    .dataframe thead th {\n        text-align: right;\n    }\n</style>\n<table border=\"1\" class=\"dataframe\">\n  <thead>\n    <tr style=\"text-align: right;\">\n      <th></th>\n      <th>age</th>\n      <th>sex</th>\n      <th>cp</th>\n      <th>trestbps</th>\n      <th>chol</th>\n      <th>fbs</th>\n      <th>restecg</th>\n      <th>thalach</th>\n      <th>exang</th>\n      <th>oldpeak</th>\n      <th>slope</th>\n      <th>ca</th>\n      <th>thal</th>\n      <th>target</th>\n    </tr>\n  </thead>\n  <tbody>\n    <tr>\n      <th>0</th>\n      <td>63</td>\n      <td>male</td>\n      <td>3</td>\n      <td>145</td>\n      <td>233</td>\n      <td>1</td>\n      <td>0</td>\n      <td>150</td>\n      <td>0</td>\n      <td>2.3</td>\n      <td>0</td>\n      <td>0</td>\n      <td>1</td>\n      <td>1</td>\n    </tr>\n    <tr>\n      <th>1</th>\n      <td>37</td>\n      <td>male</td>\n      <td>2</td>\n      <td>130</td>\n      <td>250</td>\n      <td>0</td>\n      <td>1</td>\n      <td>187</td>\n      <td>0</td>\n      <td>3.5</td>\n      <td>0</td>\n      <td>0</td>\n      <td>2</td>\n      <td>1</td>\n    </tr>\n    <tr>\n      <th>2</th>\n      <td>41</td>\n      <td>female</td>\n      <td>1</td>\n      <td>130</td>\n      <td>204</td>\n      <td>0</td>\n      <td>0</td>\n      <td>172</td>\n      <td>0</td>\n      <td>1.4</td>\n      <td>2</td>\n      <td>0</td>\n      <td>2</td>\n      <td>1</td>\n    </tr>\n    <tr>\n      <th>3</th>\n      <td>56</td>\n      <td>male</td>\n      <td>1</td>\n      <td>120</td>\n      <td>236</td>\n      <td>0</td>\n      <td>1</td>\n      <td>178</td>\n      <td>0</td>\n      <td>0.8</td>\n      <td>2</td>\n      <td>0</td>\n      <td>2</td>\n      <td>1</td>\n    </tr>\n    <tr>\n      <th>4</th>\n      <td>57</td>\n      <td>female</td>\n      <td>0</td>\n      <td>120</td>\n      <td>354</td>\n      <td>0</td>\n      <td>1</td>\n      <td>163</td>\n      <td>1</td>\n      <td>0.6</td>\n      <td>2</td>\n      <td>0</td>\n      <td>2</td>\n      <td>1</td>\n    </tr>\n    <tr>\n      <th>5</th>\n      <td>57</td>\n      <td>male</td>\n      <td>0</td>\n      <td>140</td>\n      <td>192</td>\n      <td>0</td>\n      <td>1</td>\n      <td>148</td>\n      <td>0</td>\n      <td>0.4</td>\n      <td>1</td>\n      <td>0</td>\n      <td>1</td>\n      <td>1</td>\n    </tr>\n    <tr>\n      <th>6</th>\n      <td>56</td>\n      <td>female</td>\n      <td>1</td>\n      <td>140</td>\n      <td>294</td>\n      <td>0</td>\n      <td>0</td>\n      <td>153</td>\n      <td>0</td>\n      <td>1.3</td>\n      <td>1</td>\n      <td>0</td>\n      <td>2</td>\n      <td>1</td>\n    </tr>\n    <tr>\n      <th>7</th>\n      <td>44</td>\n      <td>male</td>\n      <td>1</td>\n      <td>120</td>\n      <td>263</td>\n      <td>0</td>\n      <td>1</td>\n      <td>173</td>\n      <td>0</td>\n      <td>0.0</td>\n      <td>2</td>\n      <td>0</td>\n      <td>3</td>\n      <td>1</td>\n    </tr>\n    <tr>\n      <th>8</th>\n      <td>52</td>\n      <td>male</td>\n      <td>2</td>\n      <td>172</td>\n      <td>199</td>\n      <td>1</td>\n      <td>1</td>\n      <td>162</td>\n      <td>0</td>\n      <td>0.5</td>\n      <td>2</td>\n      <td>0</td>\n      <td>3</td>\n      <td>1</td>\n    </tr>\n    <tr>\n      <th>9</th>\n      <td>57</td>\n      <td>male</td>\n      <td>2</td>\n      <td>150</td>\n      <td>168</td>\n      <td>0</td>\n      <td>1</td>\n      <td>174</td>\n      <td>0</td>\n      <td>1.6</td>\n      <td>2</td>\n      <td>0</td>\n      <td>2</td>\n      <td>1</td>\n    </tr>\n    <tr>\n      <th>10</th>\n      <td>54</td>\n      <td>male</td>\n      <td>0</td>\n      <td>140</td>\n      <td>239</td>\n      <td>0</td>\n      <td>1</td>\n      <td>160</td>\n      <td>0</td>\n      <td>1.2</td>\n      <td>2</td>\n      <td>0</td>\n      <td>2</td>\n      <td>1</td>\n    </tr>\n    <tr>\n      <th>11</th>\n      <td>48</td>\n      <td>female</td>\n      <td>2</td>\n      <td>130</td>\n      <td>275</td>\n      <td>0</td>\n      <td>1</td>\n      <td>139</td>\n      <td>0</td>\n      <td>0.2</td>\n      <td>2</td>\n      <td>0</td>\n      <td>2</td>\n      <td>1</td>\n    </tr>\n    <tr>\n      <th>12</th>\n      <td>49</td>\n      <td>male</td>\n      <td>1</td>\n      <td>130</td>\n      <td>266</td>\n      <td>0</td>\n      <td>1</td>\n      <td>171</td>\n      <td>0</td>\n      <td>0.6</td>\n      <td>2</td>\n      <td>0</td>\n      <td>2</td>\n      <td>1</td>\n    </tr>\n    <tr>\n      <th>13</th>\n      <td>64</td>\n      <td>male</td>\n      <td>3</td>\n      <td>110</td>\n      <td>211</td>\n      <td>0</td>\n      <td>0</td>\n      <td>144</td>\n      <td>1</td>\n      <td>1.8</td>\n      <td>1</td>\n      <td>0</td>\n      <td>2</td>\n      <td>1</td>\n    </tr>\n    <tr>\n      <th>14</th>\n      <td>58</td>\n      <td>female</td>\n      <td>3</td>\n      <td>150</td>\n      <td>283</td>\n      <td>1</td>\n      <td>0</td>\n      <td>162</td>\n      <td>0</td>\n      <td>1.0</td>\n      <td>2</td>\n      <td>0</td>\n      <td>2</td>\n      <td>1</td>\n    </tr>\n  </tbody>\n</table>\n</div>"
     },
     "execution_count": 16,
     "metadata": {},
     "output_type": "execute_result"
    }
   ],
   "source": [
    "import pandas\n",
    "heart_disease_data = pandas.read_csv(\"heart.csv\")\n",
    "d = {1: 'male', 0: 'female'}\n",
    "heart_disease_data['sex'] = heart_disease_data['sex'].map(d)\n",
    "heart_disease_data.head(15)"
   ],
   "metadata": {
    "collapsed": false,
    "pycharm": {
     "name": "#%%\n"
    }
   }
  },
  {
   "cell_type": "code",
   "execution_count": 17,
   "outputs": [
    {
     "data": {
      "text/plain": "    age   sex  cp  trestbps  chol  fbs  restecg  thalach  exang  oldpeak  \\\n0    63  None   3       145   233    1        0      150      0      2.3   \n1    37  None   2       130   250    0        1      187      0      3.5   \n2    41  None   1       130   204    0        0      172      0      1.4   \n3    56  None   1       120   236    0        1      178      0      0.8   \n4    57  None   0       120   354    0        1      163      1      0.6   \n5    57  None   0       140   192    0        1      148      0      0.4   \n6    56  None   1       140   294    0        0      153      0      1.3   \n7    44  None   1       120   263    0        1      173      0      0.0   \n8    52  None   2       172   199    1        1      162      0      0.5   \n9    57  None   2       150   168    0        1      174      0      1.6   \n10   54  None   0       140   239    0        1      160      0      1.2   \n11   48  None   2       130   275    0        1      139      0      0.2   \n12   49  None   1       130   266    0        1      171      0      0.6   \n13   64  None   3       110   211    0        0      144      1      1.8   \n14   58  None   3       150   283    1        0      162      0      1.0   \n\n    slope  ca  thal  target  \n0       0   0     1       1  \n1       0   0     2       1  \n2       2   0     2       1  \n3       2   0     2       1  \n4       2   0     2       1  \n5       1   0     1       1  \n6       1   0     2       1  \n7       2   0     3       1  \n8       2   0     3       1  \n9       2   0     2       1  \n10      2   0     2       1  \n11      2   0     2       1  \n12      2   0     2       1  \n13      1   0     2       1  \n14      2   0     2       1  ",
      "text/html": "<div>\n<style scoped>\n    .dataframe tbody tr th:only-of-type {\n        vertical-align: middle;\n    }\n\n    .dataframe tbody tr th {\n        vertical-align: top;\n    }\n\n    .dataframe thead th {\n        text-align: right;\n    }\n</style>\n<table border=\"1\" class=\"dataframe\">\n  <thead>\n    <tr style=\"text-align: right;\">\n      <th></th>\n      <th>age</th>\n      <th>sex</th>\n      <th>cp</th>\n      <th>trestbps</th>\n      <th>chol</th>\n      <th>fbs</th>\n      <th>restecg</th>\n      <th>thalach</th>\n      <th>exang</th>\n      <th>oldpeak</th>\n      <th>slope</th>\n      <th>ca</th>\n      <th>thal</th>\n      <th>target</th>\n    </tr>\n  </thead>\n  <tbody>\n    <tr>\n      <th>0</th>\n      <td>63</td>\n      <td>None</td>\n      <td>3</td>\n      <td>145</td>\n      <td>233</td>\n      <td>1</td>\n      <td>0</td>\n      <td>150</td>\n      <td>0</td>\n      <td>2.3</td>\n      <td>0</td>\n      <td>0</td>\n      <td>1</td>\n      <td>1</td>\n    </tr>\n    <tr>\n      <th>1</th>\n      <td>37</td>\n      <td>None</td>\n      <td>2</td>\n      <td>130</td>\n      <td>250</td>\n      <td>0</td>\n      <td>1</td>\n      <td>187</td>\n      <td>0</td>\n      <td>3.5</td>\n      <td>0</td>\n      <td>0</td>\n      <td>2</td>\n      <td>1</td>\n    </tr>\n    <tr>\n      <th>2</th>\n      <td>41</td>\n      <td>None</td>\n      <td>1</td>\n      <td>130</td>\n      <td>204</td>\n      <td>0</td>\n      <td>0</td>\n      <td>172</td>\n      <td>0</td>\n      <td>1.4</td>\n      <td>2</td>\n      <td>0</td>\n      <td>2</td>\n      <td>1</td>\n    </tr>\n    <tr>\n      <th>3</th>\n      <td>56</td>\n      <td>None</td>\n      <td>1</td>\n      <td>120</td>\n      <td>236</td>\n      <td>0</td>\n      <td>1</td>\n      <td>178</td>\n      <td>0</td>\n      <td>0.8</td>\n      <td>2</td>\n      <td>0</td>\n      <td>2</td>\n      <td>1</td>\n    </tr>\n    <tr>\n      <th>4</th>\n      <td>57</td>\n      <td>None</td>\n      <td>0</td>\n      <td>120</td>\n      <td>354</td>\n      <td>0</td>\n      <td>1</td>\n      <td>163</td>\n      <td>1</td>\n      <td>0.6</td>\n      <td>2</td>\n      <td>0</td>\n      <td>2</td>\n      <td>1</td>\n    </tr>\n    <tr>\n      <th>5</th>\n      <td>57</td>\n      <td>None</td>\n      <td>0</td>\n      <td>140</td>\n      <td>192</td>\n      <td>0</td>\n      <td>1</td>\n      <td>148</td>\n      <td>0</td>\n      <td>0.4</td>\n      <td>1</td>\n      <td>0</td>\n      <td>1</td>\n      <td>1</td>\n    </tr>\n    <tr>\n      <th>6</th>\n      <td>56</td>\n      <td>None</td>\n      <td>1</td>\n      <td>140</td>\n      <td>294</td>\n      <td>0</td>\n      <td>0</td>\n      <td>153</td>\n      <td>0</td>\n      <td>1.3</td>\n      <td>1</td>\n      <td>0</td>\n      <td>2</td>\n      <td>1</td>\n    </tr>\n    <tr>\n      <th>7</th>\n      <td>44</td>\n      <td>None</td>\n      <td>1</td>\n      <td>120</td>\n      <td>263</td>\n      <td>0</td>\n      <td>1</td>\n      <td>173</td>\n      <td>0</td>\n      <td>0.0</td>\n      <td>2</td>\n      <td>0</td>\n      <td>3</td>\n      <td>1</td>\n    </tr>\n    <tr>\n      <th>8</th>\n      <td>52</td>\n      <td>None</td>\n      <td>2</td>\n      <td>172</td>\n      <td>199</td>\n      <td>1</td>\n      <td>1</td>\n      <td>162</td>\n      <td>0</td>\n      <td>0.5</td>\n      <td>2</td>\n      <td>0</td>\n      <td>3</td>\n      <td>1</td>\n    </tr>\n    <tr>\n      <th>9</th>\n      <td>57</td>\n      <td>None</td>\n      <td>2</td>\n      <td>150</td>\n      <td>168</td>\n      <td>0</td>\n      <td>1</td>\n      <td>174</td>\n      <td>0</td>\n      <td>1.6</td>\n      <td>2</td>\n      <td>0</td>\n      <td>2</td>\n      <td>1</td>\n    </tr>\n    <tr>\n      <th>10</th>\n      <td>54</td>\n      <td>None</td>\n      <td>0</td>\n      <td>140</td>\n      <td>239</td>\n      <td>0</td>\n      <td>1</td>\n      <td>160</td>\n      <td>0</td>\n      <td>1.2</td>\n      <td>2</td>\n      <td>0</td>\n      <td>2</td>\n      <td>1</td>\n    </tr>\n    <tr>\n      <th>11</th>\n      <td>48</td>\n      <td>None</td>\n      <td>2</td>\n      <td>130</td>\n      <td>275</td>\n      <td>0</td>\n      <td>1</td>\n      <td>139</td>\n      <td>0</td>\n      <td>0.2</td>\n      <td>2</td>\n      <td>0</td>\n      <td>2</td>\n      <td>1</td>\n    </tr>\n    <tr>\n      <th>12</th>\n      <td>49</td>\n      <td>None</td>\n      <td>1</td>\n      <td>130</td>\n      <td>266</td>\n      <td>0</td>\n      <td>1</td>\n      <td>171</td>\n      <td>0</td>\n      <td>0.6</td>\n      <td>2</td>\n      <td>0</td>\n      <td>2</td>\n      <td>1</td>\n    </tr>\n    <tr>\n      <th>13</th>\n      <td>64</td>\n      <td>None</td>\n      <td>3</td>\n      <td>110</td>\n      <td>211</td>\n      <td>0</td>\n      <td>0</td>\n      <td>144</td>\n      <td>1</td>\n      <td>1.8</td>\n      <td>1</td>\n      <td>0</td>\n      <td>2</td>\n      <td>1</td>\n    </tr>\n    <tr>\n      <th>14</th>\n      <td>58</td>\n      <td>None</td>\n      <td>3</td>\n      <td>150</td>\n      <td>283</td>\n      <td>1</td>\n      <td>0</td>\n      <td>162</td>\n      <td>0</td>\n      <td>1.0</td>\n      <td>2</td>\n      <td>0</td>\n      <td>2</td>\n      <td>1</td>\n    </tr>\n  </tbody>\n</table>\n</div>"
     },
     "execution_count": 17,
     "metadata": {},
     "output_type": "execute_result"
    }
   ],
   "source": [
    "def my_function(x):\n",
    "    if x == 1: return 'male'\n",
    "    if x == 2: return 'female'\n",
    "\n",
    "heart_disease_data['sex'] = heart_disease_data['sex'].map(my_function)\n",
    "heart_disease_data.head(15)"
   ],
   "metadata": {
    "collapsed": false,
    "pycharm": {
     "name": "#%%\n"
    }
   }
  },
  {
   "cell_type": "code",
   "execution_count": 17,
   "outputs": [],
   "source": [],
   "metadata": {
    "collapsed": false,
    "pycharm": {
     "name": "#%%\n"
    }
   }
  }
 ],
 "metadata": {
  "kernelspec": {
   "display_name": "Python 3",
   "language": "python",
   "name": "python3"
  },
  "language_info": {
   "codemirror_mode": {
    "name": "ipython",
    "version": 2
   },
   "file_extension": ".py",
   "mimetype": "text/x-python",
   "name": "python",
   "nbconvert_exporter": "python",
   "pygments_lexer": "ipython2",
   "version": "2.7.6"
  }
 },
 "nbformat": 4,
 "nbformat_minor": 0
}