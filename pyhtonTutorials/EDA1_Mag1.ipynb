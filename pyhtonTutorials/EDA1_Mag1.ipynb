{
 "cells": [
  {
   "cell_type": "markdown",
   "metadata": {
    "pycharm": {
     "name": "#%% md\n"
    }
   },
   "source": [
    "### Что такое разведывательный анализ данных или Exploratory Data Analysis (EDA?)\n",
    "Разведывательный анализ данных помогает нам изучить данные, обработать пропущенные значения, убедиться, что данные корректно выглядят и в них нет ошибок, выбрать методы для обработки данных (например, стандартизация или OneHotEncoder), сделать первичный отбор признаков для модели.\n",
    "\n",
    "По сути это работа с дескриптивными статистиками и визуализацией переменных\n",
    "\n",
    "### Главные методы:\n",
    "*1. Одномерный анализ *\n",
    "\n",
    "Распределения и дескриптивные статистики для каждой переменной.\n",
    "\n",
    "*2. Двумерный анализ *\n",
    "\n",
    "Исследуем переменные попарно (зависимые и независимые переменные друг с другом, независимые переменные при подозрение на мультиколлинеарностью).\n",
    "\n",
    "*3. Снижение размерности *\n",
    "\n",
    "Поиск и выделение признаков, которые отвечают за наибольшую вариативных в данных.\n",
    "\n",
    "### 4 цели EDA\n",
    "Обнаружить паттерны\n",
    "Заметить аномалии\n",
    "Сформулировать гипотезы\n",
    "Проверить предположения\n",
    "\n",
    "### Что исследуем во время EDA?\n",
    "Тренды\n",
    "Распределения\n",
    "Центральные тенденции и разброс\n",
    "Выбросы\n",
    "Корреляции\n",
    "Проверяем гипотезы\n",
    "Визуально исследуем данные\n",
    "\n",
    "Сегодня мы работаем с достаточно известным набором данных Auto из книги ISLR.\n",
    "\n",
    "Подробное описание данных и переменных по ссылке:https://rdrr.io/cran/ISLR/man/Auto.html"
   ]
  },
  {
   "cell_type": "markdown",
   "metadata": {
    "pycharm": {
     "name": "#%% md\n"
    }
   },
   "source": [
    "# Полезные ссылки"
   ]
  },
  {
   "cell_type": "markdown",
   "metadata": {
    "pycharm": {
     "name": "#%% md\n"
    }
   },
   "source": [
    "**Начало работы**\n",
    "\n",
    "- Anaconda (дистрибутив для Python, содержащий в том числе Jupyter Notebook и сам Python): https://www.anaconda.com/download/ - рекомендуется версия Python 3.6 или больше; не забудьте выбрать нужную операционную систему!\n",
    "- документация по Jupyter: https://jupyter.readthedocs.io/en/latest/\n",
    "- документация по pip (для установки пакетов в Python с помощью pip install): https://pip.readthedocs.io/en/latest/\n",
    "- PyCharm: https://www.jetbrains.com/pycharm/\n",
    "\n",
    "**Общее**\n",
    "\n",
    "- для любых вопросов: https://www.google.com/\n",
    "- для (почти) любых ответов: https://stackoverflow.com/\n",
    "- [a professional information and analytical resource dedicated to machine learning, pattern recognition, and data mining](http://www.machinelearning.ru/wiki/index.php?title=%D0%97%D0%B0%D0%B3%D0%BB%D0%B0%D0%B2%D0%BD%D0%B0%D1%8F_%D1%81%D1%82%D1%80%D0%B0%D0%BD%D0%B8%D1%86%D0%B0)\n",
    "- A visual introduction to machine learning: http://www.r2d3.us/visual-intro-to-machine-learning-part-1/\n",
    "\n",
    "**Python & Jupyter**\n",
    "\n",
    "- A Crash Course in Python for Scientists: http://nbviewer.jupyter.org/gist/rpmuller/5920182\n",
    "- A Gallery of interesting Jupyter Notebooks: https://github.com/jupyter/jupyter/wiki/A-gallery-of-interesting-Jupyter-Notebooks\n",
    "- Markdown Cheatsheet: https://github.com/adam-p/markdown-here/wiki/Markdown-Cheatsheet\n",
    "\n",
    "**pandas**\n",
    "\n",
    "- документация: http://pandas.pydata.org/pandas-docs/stable/\n",
    "- 10 minutes to pandas: https://pandas.pydata.org/pandas-docs/stable/10min.html\n",
    "- Pandas Tutorial: DataFrames in Python: https://www.datacamp.com/community/tutorials/pandas-tutorial-dataframe-python\n",
    "- Cheet Sheet: https://www.analyticsvidhya.com/blog/2015/07/11-steps-perform-data-analysis-pandas-python/\n",
    "- Visualization: http://pandas.pydata.org/pandas-docs/stable/visualization.html\n",
    "\n",
    "**sklearn**\n",
    "\n",
    "- документация и многое другое: http://scikit-learn.org/stable/\n",
    "\n",
    "**Другие библиотеки**\n",
    "\n",
    "- matplotlib: https://matplotlib.org/users/pyplot_tutorial.html\n",
    "- seaborn: http://seaborn.pydata.org/\n"
   ]
  },
  {
   "cell_type": "markdown",
   "metadata": {
    "pycharm": {
     "name": "#%% md\n"
    }
   },
   "source": [
    "## Лабораторная работа 1: работа с Pandas.\n",
    "\n",
    "Pandas - это библиотека Python, предоставляющая широкие возможности для анализа данных. С ее помощью очень удобно загружать, обрабатывать и анализировать табличные данные с помощью SQL-подобных запросов."
   ]
  },
  {
   "cell_type": "code",
   "execution_count": 2,
   "metadata": {
    "pycharm": {
     "name": "#%%\n"
    }
   },
   "outputs": [],
   "source": [
    "import pandas as pd"
   ]
  },
  {
   "cell_type": "markdown",
   "metadata": {
    "pycharm": {
     "name": "#%% md\n"
    }
   },
   "source": [
    "Основными структурами данных в Pandas являются классы Series и DataFrame. Первый из них представляет собой одномерный индексированный массив данных некоторого фиксированного типа. Второй - это двумерная структура данных, представляющая собой таблицу, каждый столбец которой содержит данные одного типа. Можно представлять её как словарь объектов типа Series."
   ]
  },
  {
   "cell_type": "markdown",
   "metadata": {
    "pycharm": {
     "name": "#%% md\n"
    }
   },
   "source": [
    "### 1\n",
    "Прочтите данные из файла Auto.csv\n",
    "\n",
    "*Функции, которые могут пригодиться при решении: `pd.read_csv(..., delimiter=',')`*"
   ]
  },
  {
   "cell_type": "code",
   "execution_count": 3,
   "outputs": [
    {
     "data": {
      "text/plain": "      mpg  cylinders  displacement horsepower  weight  acceleration  year  \\\n0    18.0          8         307.0        130    3504          12.0    70   \n1    15.0          8         350.0        165    3693          11.5    70   \n2    18.0          8         318.0        150    3436          11.0    70   \n3    16.0          8         304.0        150    3433          12.0    70   \n4    17.0          8         302.0        140    3449          10.5    70   \n..    ...        ...           ...        ...     ...           ...   ...   \n392  27.0          4         140.0         86    2790          15.6    82   \n393  44.0          4          97.0         52    2130          24.6    82   \n394  32.0          4         135.0         84    2295          11.6    82   \n395  28.0          4         120.0         79    2625          18.6    82   \n396  31.0          4         119.0         82    2720          19.4    82   \n\n     origin                       name  \n0         1  chevrolet chevelle malibu  \n1         1          buick skylark 320  \n2         1         plymouth satellite  \n3         1              amc rebel sst  \n4         1                ford torino  \n..      ...                        ...  \n392       1            ford mustang gl  \n393       2                  vw pickup  \n394       1              dodge rampage  \n395       1                ford ranger  \n396       1                 chevy s-10  \n\n[397 rows x 9 columns]",
      "text/html": "<div>\n<style scoped>\n    .dataframe tbody tr th:only-of-type {\n        vertical-align: middle;\n    }\n\n    .dataframe tbody tr th {\n        vertical-align: top;\n    }\n\n    .dataframe thead th {\n        text-align: right;\n    }\n</style>\n<table border=\"1\" class=\"dataframe\">\n  <thead>\n    <tr style=\"text-align: right;\">\n      <th></th>\n      <th>mpg</th>\n      <th>cylinders</th>\n      <th>displacement</th>\n      <th>horsepower</th>\n      <th>weight</th>\n      <th>acceleration</th>\n      <th>year</th>\n      <th>origin</th>\n      <th>name</th>\n    </tr>\n  </thead>\n  <tbody>\n    <tr>\n      <th>0</th>\n      <td>18.0</td>\n      <td>8</td>\n      <td>307.0</td>\n      <td>130</td>\n      <td>3504</td>\n      <td>12.0</td>\n      <td>70</td>\n      <td>1</td>\n      <td>chevrolet chevelle malibu</td>\n    </tr>\n    <tr>\n      <th>1</th>\n      <td>15.0</td>\n      <td>8</td>\n      <td>350.0</td>\n      <td>165</td>\n      <td>3693</td>\n      <td>11.5</td>\n      <td>70</td>\n      <td>1</td>\n      <td>buick skylark 320</td>\n    </tr>\n    <tr>\n      <th>2</th>\n      <td>18.0</td>\n      <td>8</td>\n      <td>318.0</td>\n      <td>150</td>\n      <td>3436</td>\n      <td>11.0</td>\n      <td>70</td>\n      <td>1</td>\n      <td>plymouth satellite</td>\n    </tr>\n    <tr>\n      <th>3</th>\n      <td>16.0</td>\n      <td>8</td>\n      <td>304.0</td>\n      <td>150</td>\n      <td>3433</td>\n      <td>12.0</td>\n      <td>70</td>\n      <td>1</td>\n      <td>amc rebel sst</td>\n    </tr>\n    <tr>\n      <th>4</th>\n      <td>17.0</td>\n      <td>8</td>\n      <td>302.0</td>\n      <td>140</td>\n      <td>3449</td>\n      <td>10.5</td>\n      <td>70</td>\n      <td>1</td>\n      <td>ford torino</td>\n    </tr>\n    <tr>\n      <th>...</th>\n      <td>...</td>\n      <td>...</td>\n      <td>...</td>\n      <td>...</td>\n      <td>...</td>\n      <td>...</td>\n      <td>...</td>\n      <td>...</td>\n      <td>...</td>\n    </tr>\n    <tr>\n      <th>392</th>\n      <td>27.0</td>\n      <td>4</td>\n      <td>140.0</td>\n      <td>86</td>\n      <td>2790</td>\n      <td>15.6</td>\n      <td>82</td>\n      <td>1</td>\n      <td>ford mustang gl</td>\n    </tr>\n    <tr>\n      <th>393</th>\n      <td>44.0</td>\n      <td>4</td>\n      <td>97.0</td>\n      <td>52</td>\n      <td>2130</td>\n      <td>24.6</td>\n      <td>82</td>\n      <td>2</td>\n      <td>vw pickup</td>\n    </tr>\n    <tr>\n      <th>394</th>\n      <td>32.0</td>\n      <td>4</td>\n      <td>135.0</td>\n      <td>84</td>\n      <td>2295</td>\n      <td>11.6</td>\n      <td>82</td>\n      <td>1</td>\n      <td>dodge rampage</td>\n    </tr>\n    <tr>\n      <th>395</th>\n      <td>28.0</td>\n      <td>4</td>\n      <td>120.0</td>\n      <td>79</td>\n      <td>2625</td>\n      <td>18.6</td>\n      <td>82</td>\n      <td>1</td>\n      <td>ford ranger</td>\n    </tr>\n    <tr>\n      <th>396</th>\n      <td>31.0</td>\n      <td>4</td>\n      <td>119.0</td>\n      <td>82</td>\n      <td>2720</td>\n      <td>19.4</td>\n      <td>82</td>\n      <td>1</td>\n      <td>chevy s-10</td>\n    </tr>\n  </tbody>\n</table>\n<p>397 rows × 9 columns</p>\n</div>"
     },
     "execution_count": 3,
     "metadata": {},
     "output_type": "execute_result"
    }
   ],
   "source": [
    "import pandas\n",
    "pandas.read_csv('Auto.csv')"
   ],
   "metadata": {
    "collapsed": false,
    "pycharm": {
     "name": "#%%\n"
    }
   }
  },
  {
   "cell_type": "markdown",
   "metadata": {
    "pycharm": {
     "name": "#%% md\n"
    }
   },
   "source": [
    "### 2\n",
    "Выведите описание прочтенных данных. \n",
    "\n",
    "*Функции, которые могут пригодиться при решении: `.describe()`, 'shape' - количество столбцов (признаков, предикторов) и строк (записей, наблюдений)*"
   ]
  },
  {
   "cell_type": "code",
   "execution_count": 4,
   "outputs": [
    {
     "data": {
      "text/plain": "              mpg   cylinders  displacement       weight  acceleration  \\\ncount  397.000000  397.000000    397.000000   397.000000    397.000000   \nmean    23.515869    5.458438    193.532746  2970.261965     15.555668   \nstd      7.825804    1.701577    104.379583   847.904119      2.749995   \nmin      9.000000    3.000000     68.000000  1613.000000      8.000000   \n25%     17.500000    4.000000    104.000000  2223.000000     13.800000   \n50%     23.000000    4.000000    146.000000  2800.000000     15.500000   \n75%     29.000000    8.000000    262.000000  3609.000000     17.100000   \nmax     46.600000    8.000000    455.000000  5140.000000     24.800000   \n\n             year      origin  \ncount  397.000000  397.000000  \nmean    75.994962    1.574307  \nstd      3.690005    0.802549  \nmin     70.000000    1.000000  \n25%     73.000000    1.000000  \n50%     76.000000    1.000000  \n75%     79.000000    2.000000  \nmax     82.000000    3.000000  ",
      "text/html": "<div>\n<style scoped>\n    .dataframe tbody tr th:only-of-type {\n        vertical-align: middle;\n    }\n\n    .dataframe tbody tr th {\n        vertical-align: top;\n    }\n\n    .dataframe thead th {\n        text-align: right;\n    }\n</style>\n<table border=\"1\" class=\"dataframe\">\n  <thead>\n    <tr style=\"text-align: right;\">\n      <th></th>\n      <th>mpg</th>\n      <th>cylinders</th>\n      <th>displacement</th>\n      <th>weight</th>\n      <th>acceleration</th>\n      <th>year</th>\n      <th>origin</th>\n    </tr>\n  </thead>\n  <tbody>\n    <tr>\n      <th>count</th>\n      <td>397.000000</td>\n      <td>397.000000</td>\n      <td>397.000000</td>\n      <td>397.000000</td>\n      <td>397.000000</td>\n      <td>397.000000</td>\n      <td>397.000000</td>\n    </tr>\n    <tr>\n      <th>mean</th>\n      <td>23.515869</td>\n      <td>5.458438</td>\n      <td>193.532746</td>\n      <td>2970.261965</td>\n      <td>15.555668</td>\n      <td>75.994962</td>\n      <td>1.574307</td>\n    </tr>\n    <tr>\n      <th>std</th>\n      <td>7.825804</td>\n      <td>1.701577</td>\n      <td>104.379583</td>\n      <td>847.904119</td>\n      <td>2.749995</td>\n      <td>3.690005</td>\n      <td>0.802549</td>\n    </tr>\n    <tr>\n      <th>min</th>\n      <td>9.000000</td>\n      <td>3.000000</td>\n      <td>68.000000</td>\n      <td>1613.000000</td>\n      <td>8.000000</td>\n      <td>70.000000</td>\n      <td>1.000000</td>\n    </tr>\n    <tr>\n      <th>25%</th>\n      <td>17.500000</td>\n      <td>4.000000</td>\n      <td>104.000000</td>\n      <td>2223.000000</td>\n      <td>13.800000</td>\n      <td>73.000000</td>\n      <td>1.000000</td>\n    </tr>\n    <tr>\n      <th>50%</th>\n      <td>23.000000</td>\n      <td>4.000000</td>\n      <td>146.000000</td>\n      <td>2800.000000</td>\n      <td>15.500000</td>\n      <td>76.000000</td>\n      <td>1.000000</td>\n    </tr>\n    <tr>\n      <th>75%</th>\n      <td>29.000000</td>\n      <td>8.000000</td>\n      <td>262.000000</td>\n      <td>3609.000000</td>\n      <td>17.100000</td>\n      <td>79.000000</td>\n      <td>2.000000</td>\n    </tr>\n    <tr>\n      <th>max</th>\n      <td>46.600000</td>\n      <td>8.000000</td>\n      <td>455.000000</td>\n      <td>5140.000000</td>\n      <td>24.800000</td>\n      <td>82.000000</td>\n      <td>3.000000</td>\n    </tr>\n  </tbody>\n</table>\n</div>"
     },
     "execution_count": 4,
     "metadata": {},
     "output_type": "execute_result"
    }
   ],
   "source": [
    "auto_data = pandas.read_csv('Auto.csv')\n",
    "auto_data.describe()"
   ],
   "metadata": {
    "collapsed": false,
    "pycharm": {
     "name": "#%%\n"
    }
   }
  },
  {
   "cell_type": "markdown",
   "metadata": {
    "pycharm": {
     "name": "#%% md\n"
    }
   },
   "source": [
    "### 3\n",
    "Отобразите несколько первых и несколько последних записей.\n",
    "\n",
    "*Функции, которые могут пригодиться при решении: `.head(), .tail()`*\n",
    "\n",
    "*Какие параметры можно передать этим функциям?*"
   ]
  },
  {
   "cell_type": "code",
   "execution_count": 5,
   "outputs": [
    {
     "data": {
      "text/plain": "    mpg  cylinders  displacement horsepower  weight  acceleration  year  \\\n0  18.0          8         307.0        130    3504          12.0    70   \n1  15.0          8         350.0        165    3693          11.5    70   \n2  18.0          8         318.0        150    3436          11.0    70   \n3  16.0          8         304.0        150    3433          12.0    70   \n4  17.0          8         302.0        140    3449          10.5    70   \n\n   origin                       name  \n0       1  chevrolet chevelle malibu  \n1       1          buick skylark 320  \n2       1         plymouth satellite  \n3       1              amc rebel sst  \n4       1                ford torino  ",
      "text/html": "<div>\n<style scoped>\n    .dataframe tbody tr th:only-of-type {\n        vertical-align: middle;\n    }\n\n    .dataframe tbody tr th {\n        vertical-align: top;\n    }\n\n    .dataframe thead th {\n        text-align: right;\n    }\n</style>\n<table border=\"1\" class=\"dataframe\">\n  <thead>\n    <tr style=\"text-align: right;\">\n      <th></th>\n      <th>mpg</th>\n      <th>cylinders</th>\n      <th>displacement</th>\n      <th>horsepower</th>\n      <th>weight</th>\n      <th>acceleration</th>\n      <th>year</th>\n      <th>origin</th>\n      <th>name</th>\n    </tr>\n  </thead>\n  <tbody>\n    <tr>\n      <th>0</th>\n      <td>18.0</td>\n      <td>8</td>\n      <td>307.0</td>\n      <td>130</td>\n      <td>3504</td>\n      <td>12.0</td>\n      <td>70</td>\n      <td>1</td>\n      <td>chevrolet chevelle malibu</td>\n    </tr>\n    <tr>\n      <th>1</th>\n      <td>15.0</td>\n      <td>8</td>\n      <td>350.0</td>\n      <td>165</td>\n      <td>3693</td>\n      <td>11.5</td>\n      <td>70</td>\n      <td>1</td>\n      <td>buick skylark 320</td>\n    </tr>\n    <tr>\n      <th>2</th>\n      <td>18.0</td>\n      <td>8</td>\n      <td>318.0</td>\n      <td>150</td>\n      <td>3436</td>\n      <td>11.0</td>\n      <td>70</td>\n      <td>1</td>\n      <td>plymouth satellite</td>\n    </tr>\n    <tr>\n      <th>3</th>\n      <td>16.0</td>\n      <td>8</td>\n      <td>304.0</td>\n      <td>150</td>\n      <td>3433</td>\n      <td>12.0</td>\n      <td>70</td>\n      <td>1</td>\n      <td>amc rebel sst</td>\n    </tr>\n    <tr>\n      <th>4</th>\n      <td>17.0</td>\n      <td>8</td>\n      <td>302.0</td>\n      <td>140</td>\n      <td>3449</td>\n      <td>10.5</td>\n      <td>70</td>\n      <td>1</td>\n      <td>ford torino</td>\n    </tr>\n  </tbody>\n</table>\n</div>"
     },
     "execution_count": 5,
     "metadata": {},
     "output_type": "execute_result"
    }
   ],
   "source": [
    "auto_data.head()"
   ],
   "metadata": {
    "collapsed": false,
    "pycharm": {
     "name": "#%%\n"
    }
   }
  },
  {
   "cell_type": "code",
   "execution_count": 6,
   "outputs": [
    {
     "data": {
      "text/plain": "      mpg  cylinders  displacement horsepower  weight  acceleration  year  \\\n392  27.0          4         140.0         86    2790          15.6    82   \n393  44.0          4          97.0         52    2130          24.6    82   \n394  32.0          4         135.0         84    2295          11.6    82   \n395  28.0          4         120.0         79    2625          18.6    82   \n396  31.0          4         119.0         82    2720          19.4    82   \n\n     origin             name  \n392       1  ford mustang gl  \n393       2        vw pickup  \n394       1    dodge rampage  \n395       1      ford ranger  \n396       1       chevy s-10  ",
      "text/html": "<div>\n<style scoped>\n    .dataframe tbody tr th:only-of-type {\n        vertical-align: middle;\n    }\n\n    .dataframe tbody tr th {\n        vertical-align: top;\n    }\n\n    .dataframe thead th {\n        text-align: right;\n    }\n</style>\n<table border=\"1\" class=\"dataframe\">\n  <thead>\n    <tr style=\"text-align: right;\">\n      <th></th>\n      <th>mpg</th>\n      <th>cylinders</th>\n      <th>displacement</th>\n      <th>horsepower</th>\n      <th>weight</th>\n      <th>acceleration</th>\n      <th>year</th>\n      <th>origin</th>\n      <th>name</th>\n    </tr>\n  </thead>\n  <tbody>\n    <tr>\n      <th>392</th>\n      <td>27.0</td>\n      <td>4</td>\n      <td>140.0</td>\n      <td>86</td>\n      <td>2790</td>\n      <td>15.6</td>\n      <td>82</td>\n      <td>1</td>\n      <td>ford mustang gl</td>\n    </tr>\n    <tr>\n      <th>393</th>\n      <td>44.0</td>\n      <td>4</td>\n      <td>97.0</td>\n      <td>52</td>\n      <td>2130</td>\n      <td>24.6</td>\n      <td>82</td>\n      <td>2</td>\n      <td>vw pickup</td>\n    </tr>\n    <tr>\n      <th>394</th>\n      <td>32.0</td>\n      <td>4</td>\n      <td>135.0</td>\n      <td>84</td>\n      <td>2295</td>\n      <td>11.6</td>\n      <td>82</td>\n      <td>1</td>\n      <td>dodge rampage</td>\n    </tr>\n    <tr>\n      <th>395</th>\n      <td>28.0</td>\n      <td>4</td>\n      <td>120.0</td>\n      <td>79</td>\n      <td>2625</td>\n      <td>18.6</td>\n      <td>82</td>\n      <td>1</td>\n      <td>ford ranger</td>\n    </tr>\n    <tr>\n      <th>396</th>\n      <td>31.0</td>\n      <td>4</td>\n      <td>119.0</td>\n      <td>82</td>\n      <td>2720</td>\n      <td>19.4</td>\n      <td>82</td>\n      <td>1</td>\n      <td>chevy s-10</td>\n    </tr>\n  </tbody>\n</table>\n</div>"
     },
     "execution_count": 6,
     "metadata": {},
     "output_type": "execute_result"
    }
   ],
   "source": [
    "auto_data.tail()"
   ],
   "metadata": {
    "collapsed": false,
    "pycharm": {
     "name": "#%%\n"
    }
   }
  },
  {
   "cell_type": "markdown",
   "metadata": {
    "pycharm": {
     "name": "#%% md\n"
    }
   },
   "source": [
    "### 4\n",
    "Пройдите по ссылке https://rdrr.io/cran/ISLR/man/Auto.html, разберите, что означают столбцы матрицы. Какому типу принадлежит каждый столбец (вещественный, целый, категориальный)?"
   ]
  },
  {
   "cell_type": "code",
   "execution_count": 7,
   "outputs": [
    {
     "data": {
      "text/plain": "<AxesSubplot:>"
     },
     "execution_count": 7,
     "metadata": {},
     "output_type": "execute_result"
    },
    {
     "data": {
      "text/plain": "<Figure size 432x288 with 1 Axes>",
      "image/png": "[encoded data removed]"
     },
     "metadata": {
      "needs_background": "light"
     },
     "output_type": "display_data"
    }
   ],
   "source": [
    "auto_data.acceleration.hist()"
   ],
   "metadata": {
    "collapsed": false,
    "pycharm": {
     "name": "#%%\n"
    }
   }
  },
  {
   "cell_type": "markdown",
   "metadata": {
    "pycharm": {
     "name": "#%% md\n"
    }
   },
   "source": [
    "выведите типы данных предикторов (признаков, атрибутов)"
   ]
  },
  {
   "cell_type": "markdown",
   "metadata": {
    "pycharm": {
     "name": "#%% md\n"
    }
   },
   "source": [
    "### 5\n",
    "* Отберите первые 50 записей\n",
    "* Проверьте есть в данных пустые значения\n",
    "\n",
    "#### *Функции, которые могут пригодиться при решении:*\n",
    "\n",
    "Обращение к элементам DataFrame:\n",
    "  * элемент: `data.loc[i, 'названиеСтолбца']`\n",
    "  * столбец: `data['названиеСтолбца']`\n",
    "  * подматрица: `data.loc[a:b, списокНазванийСтолбцов]`\n",
    "\n",
    "Условная индексация:\n",
    "* `data.loc[data['столбец'] > 20, списокНазванийСтолбцов]`\n",
    "\n",
    "лучше писать так:\n",
    "\n",
    "* `i = data['столбец'] > 20`  # вектор `True` и `False`\n",
    "* `data.loc[i, 'названиеСтолбца']`\n",
    "\n",
    "У подматриц номера строк наследуются от исходной.\n",
    "\n",
    "* `pandas.isnull(скаляр или массив)` - проверка, является ли значение неопределенным (`NaN`)\n",
    "* `pandas.notnull(скаляр или массив)` - проверка, является ли значение определенным (не `NaN`)"
   ]
  },
  {
   "cell_type": "code",
   "execution_count": 8,
   "outputs": [
    {
     "data": {
      "text/plain": "       mpg  cylinders  displacement  horsepower  weight  acceleration   year  \\\n0    False      False         False       False   False         False  False   \n1    False      False         False       False   False         False  False   \n2    False      False         False       False   False         False  False   \n3    False      False         False       False   False         False  False   \n4    False      False         False       False   False         False  False   \n..     ...        ...           ...         ...     ...           ...    ...   \n392  False      False         False       False   False         False  False   \n393  False      False         False       False   False         False  False   \n394  False      False         False       False   False         False  False   \n395  False      False         False       False   False         False  False   \n396  False      False         False       False   False         False  False   \n\n     origin   name  \n0     False  False  \n1     False  False  \n2     False  False  \n3     False  False  \n4     False  False  \n..      ...    ...  \n392   False  False  \n393   False  False  \n394   False  False  \n395   False  False  \n396   False  False  \n\n[397 rows x 9 columns]",
      "text/html": "<div>\n<style scoped>\n    .dataframe tbody tr th:only-of-type {\n        vertical-align: middle;\n    }\n\n    .dataframe tbody tr th {\n        vertical-align: top;\n    }\n\n    .dataframe thead th {\n        text-align: right;\n    }\n</style>\n<table border=\"1\" class=\"dataframe\">\n  <thead>\n    <tr style=\"text-align: right;\">\n      <th></th>\n      <th>mpg</th>\n      <th>cylinders</th>\n      <th>displacement</th>\n      <th>horsepower</th>\n      <th>weight</th>\n      <th>acceleration</th>\n      <th>year</th>\n      <th>origin</th>\n      <th>name</th>\n    </tr>\n  </thead>\n  <tbody>\n    <tr>\n      <th>0</th>\n      <td>False</td>\n      <td>False</td>\n      <td>False</td>\n      <td>False</td>\n      <td>False</td>\n      <td>False</td>\n      <td>False</td>\n      <td>False</td>\n      <td>False</td>\n    </tr>\n    <tr>\n      <th>1</th>\n      <td>False</td>\n      <td>False</td>\n      <td>False</td>\n      <td>False</td>\n      <td>False</td>\n      <td>False</td>\n      <td>False</td>\n      <td>False</td>\n      <td>False</td>\n    </tr>\n    <tr>\n      <th>2</th>\n      <td>False</td>\n      <td>False</td>\n      <td>False</td>\n      <td>False</td>\n      <td>False</td>\n      <td>False</td>\n      <td>False</td>\n      <td>False</td>\n      <td>False</td>\n    </tr>\n    <tr>\n      <th>3</th>\n      <td>False</td>\n      <td>False</td>\n      <td>False</td>\n      <td>False</td>\n      <td>False</td>\n      <td>False</td>\n      <td>False</td>\n      <td>False</td>\n      <td>False</td>\n    </tr>\n    <tr>\n      <th>4</th>\n      <td>False</td>\n      <td>False</td>\n      <td>False</td>\n      <td>False</td>\n      <td>False</td>\n      <td>False</td>\n      <td>False</td>\n      <td>False</td>\n      <td>False</td>\n    </tr>\n    <tr>\n      <th>...</th>\n      <td>...</td>\n      <td>...</td>\n      <td>...</td>\n      <td>...</td>\n      <td>...</td>\n      <td>...</td>\n      <td>...</td>\n      <td>...</td>\n      <td>...</td>\n    </tr>\n    <tr>\n      <th>392</th>\n      <td>False</td>\n      <td>False</td>\n      <td>False</td>\n      <td>False</td>\n      <td>False</td>\n      <td>False</td>\n      <td>False</td>\n      <td>False</td>\n      <td>False</td>\n    </tr>\n    <tr>\n      <th>393</th>\n      <td>False</td>\n      <td>False</td>\n      <td>False</td>\n      <td>False</td>\n      <td>False</td>\n      <td>False</td>\n      <td>False</td>\n      <td>False</td>\n      <td>False</td>\n    </tr>\n    <tr>\n      <th>394</th>\n      <td>False</td>\n      <td>False</td>\n      <td>False</td>\n      <td>False</td>\n      <td>False</td>\n      <td>False</td>\n      <td>False</td>\n      <td>False</td>\n      <td>False</td>\n    </tr>\n    <tr>\n      <th>395</th>\n      <td>False</td>\n      <td>False</td>\n      <td>False</td>\n      <td>False</td>\n      <td>False</td>\n      <td>False</td>\n      <td>False</td>\n      <td>False</td>\n      <td>False</td>\n    </tr>\n    <tr>\n      <th>396</th>\n      <td>False</td>\n      <td>False</td>\n      <td>False</td>\n      <td>False</td>\n      <td>False</td>\n      <td>False</td>\n      <td>False</td>\n      <td>False</td>\n      <td>False</td>\n    </tr>\n  </tbody>\n</table>\n<p>397 rows × 9 columns</p>\n</div>"
     },
     "execution_count": 8,
     "metadata": {},
     "output_type": "execute_result"
    }
   ],
   "source": [
    "pandas.isnull(auto_data)"
   ],
   "metadata": {
    "collapsed": false,
    "pycharm": {
     "name": "#%%\n"
    }
   }
  },
  {
   "cell_type": "code",
   "execution_count": 23,
   "outputs": [
    {
     "name": "stdout",
     "output_type": "stream",
     "text": [
      "      mpg  cylinders  displacement horsepower  weight  acceleration  year  \\\n",
      "0    18.0          8         307.0        130    3504          12.0    70   \n",
      "1    15.0          8         350.0        165    3693          11.5    70   \n",
      "3    16.0          8         304.0        150    3433          12.0    70   \n",
      "14   24.0          4         113.0         95    2372          15.0    70   \n",
      "15   22.0          6         198.0         95    2833          15.5    70   \n",
      "..    ...        ...           ...        ...     ...           ...   ...   \n",
      "392  27.0          4         140.0         86    2790          15.6    82   \n",
      "393  44.0          4          97.0         52    2130          24.6    82   \n",
      "394  32.0          4         135.0         84    2295          11.6    82   \n",
      "395  28.0          4         120.0         79    2625          18.6    82   \n",
      "396  31.0          4         119.0         82    2720          19.4    82   \n",
      "\n",
      "     origin                       name  \n",
      "0         1  chevrolet chevelle malibu  \n",
      "1         1          buick skylark 320  \n",
      "3         1              amc rebel sst  \n",
      "14        3      toyota corona mark ii  \n",
      "15        1            plymouth duster  \n",
      "..      ...                        ...  \n",
      "392       1            ford mustang gl  \n",
      "393       2                  vw pickup  \n",
      "394       1              dodge rampage  \n",
      "395       1                ford ranger  \n",
      "396       1                 chevy s-10  \n",
      "\n",
      "[379 rows x 9 columns] ['mpg', 'cylinders']\n"
     ]
    }
   ],
   "source": [
    "list_data = [\"mpg\", \"cylinders\"]\n",
    "print(auto_data.loc[auto_data['acceleration'] > 11], list_data)"
   ],
   "metadata": {
    "collapsed": false,
    "pycharm": {
     "name": "#%%\n"
    }
   }
  },
  {
   "cell_type": "code",
   "execution_count": 10,
   "outputs": [
    {
     "data": {
      "text/plain": "      mpg  cylinders  displacement  horsepower  weight  acceleration  year  \\\n0    True       True          True        True    True          True  True   \n1    True       True          True        True    True          True  True   \n2    True       True          True        True    True          True  True   \n3    True       True          True        True    True          True  True   \n4    True       True          True        True    True          True  True   \n..    ...        ...           ...         ...     ...           ...   ...   \n392  True       True          True        True    True          True  True   \n393  True       True          True        True    True          True  True   \n394  True       True          True        True    True          True  True   \n395  True       True          True        True    True          True  True   \n396  True       True          True        True    True          True  True   \n\n     origin  name  \n0      True  True  \n1      True  True  \n2      True  True  \n3      True  True  \n4      True  True  \n..      ...   ...  \n392    True  True  \n393    True  True  \n394    True  True  \n395    True  True  \n396    True  True  \n\n[397 rows x 9 columns]",
      "text/html": "<div>\n<style scoped>\n    .dataframe tbody tr th:only-of-type {\n        vertical-align: middle;\n    }\n\n    .dataframe tbody tr th {\n        vertical-align: top;\n    }\n\n    .dataframe thead th {\n        text-align: right;\n    }\n</style>\n<table border=\"1\" class=\"dataframe\">\n  <thead>\n    <tr style=\"text-align: right;\">\n      <th></th>\n      <th>mpg</th>\n      <th>cylinders</th>\n      <th>displacement</th>\n      <th>horsepower</th>\n      <th>weight</th>\n      <th>acceleration</th>\n      <th>year</th>\n      <th>origin</th>\n      <th>name</th>\n    </tr>\n  </thead>\n  <tbody>\n    <tr>\n      <th>0</th>\n      <td>True</td>\n      <td>True</td>\n      <td>True</td>\n      <td>True</td>\n      <td>True</td>\n      <td>True</td>\n      <td>True</td>\n      <td>True</td>\n      <td>True</td>\n    </tr>\n    <tr>\n      <th>1</th>\n      <td>True</td>\n      <td>True</td>\n      <td>True</td>\n      <td>True</td>\n      <td>True</td>\n      <td>True</td>\n      <td>True</td>\n      <td>True</td>\n      <td>True</td>\n    </tr>\n    <tr>\n      <th>2</th>\n      <td>True</td>\n      <td>True</td>\n      <td>True</td>\n      <td>True</td>\n      <td>True</td>\n      <td>True</td>\n      <td>True</td>\n      <td>True</td>\n      <td>True</td>\n    </tr>\n    <tr>\n      <th>3</th>\n      <td>True</td>\n      <td>True</td>\n      <td>True</td>\n      <td>True</td>\n      <td>True</td>\n      <td>True</td>\n      <td>True</td>\n      <td>True</td>\n      <td>True</td>\n    </tr>\n    <tr>\n      <th>4</th>\n      <td>True</td>\n      <td>True</td>\n      <td>True</td>\n      <td>True</td>\n      <td>True</td>\n      <td>True</td>\n      <td>True</td>\n      <td>True</td>\n      <td>True</td>\n    </tr>\n    <tr>\n      <th>...</th>\n      <td>...</td>\n      <td>...</td>\n      <td>...</td>\n      <td>...</td>\n      <td>...</td>\n      <td>...</td>\n      <td>...</td>\n      <td>...</td>\n      <td>...</td>\n    </tr>\n    <tr>\n      <th>392</th>\n      <td>True</td>\n      <td>True</td>\n      <td>True</td>\n      <td>True</td>\n      <td>True</td>\n      <td>True</td>\n      <td>True</td>\n      <td>True</td>\n      <td>True</td>\n    </tr>\n    <tr>\n      <th>393</th>\n      <td>True</td>\n      <td>True</td>\n      <td>True</td>\n      <td>True</td>\n      <td>True</td>\n      <td>True</td>\n      <td>True</td>\n      <td>True</td>\n      <td>True</td>\n    </tr>\n    <tr>\n      <th>394</th>\n      <td>True</td>\n      <td>True</td>\n      <td>True</td>\n      <td>True</td>\n      <td>True</td>\n      <td>True</td>\n      <td>True</td>\n      <td>True</td>\n      <td>True</td>\n    </tr>\n    <tr>\n      <th>395</th>\n      <td>True</td>\n      <td>True</td>\n      <td>True</td>\n      <td>True</td>\n      <td>True</td>\n      <td>True</td>\n      <td>True</td>\n      <td>True</td>\n      <td>True</td>\n    </tr>\n    <tr>\n      <th>396</th>\n      <td>True</td>\n      <td>True</td>\n      <td>True</td>\n      <td>True</td>\n      <td>True</td>\n      <td>True</td>\n      <td>True</td>\n      <td>True</td>\n      <td>True</td>\n    </tr>\n  </tbody>\n</table>\n<p>397 rows × 9 columns</p>\n</div>"
     },
     "execution_count": 10,
     "metadata": {},
     "output_type": "execute_result"
    }
   ],
   "source": [
    "pandas.notnull(auto_data)"
   ],
   "metadata": {
    "collapsed": false,
    "pycharm": {
     "name": "#%%\n"
    }
   }
  },
  {
   "cell_type": "code",
   "execution_count": 11,
   "outputs": [
    {
     "data": {
      "text/plain": "     mpg  cylinders  displacement horsepower  weight  acceleration  year  \\\n0   18.0          8         307.0        130    3504          12.0    70   \n1   15.0          8         350.0        165    3693          11.5    70   \n2   18.0          8         318.0        150    3436          11.0    70   \n3   16.0          8         304.0        150    3433          12.0    70   \n4   17.0          8         302.0        140    3449          10.5    70   \n5   15.0          8         429.0        198    4341          10.0    70   \n6   14.0          8         454.0        220    4354           9.0    70   \n7   14.0          8         440.0        215    4312           8.5    70   \n8   14.0          8         455.0        225    4425          10.0    70   \n9   15.0          8         390.0        190    3850           8.5    70   \n10  15.0          8         383.0        170    3563          10.0    70   \n11  14.0          8         340.0        160    3609           8.0    70   \n12  15.0          8         400.0        150    3761           9.5    70   \n13  14.0          8         455.0        225    3086          10.0    70   \n14  24.0          4         113.0         95    2372          15.0    70   \n15  22.0          6         198.0         95    2833          15.5    70   \n16  18.0          6         199.0         97    2774          15.5    70   \n17  21.0          6         200.0         85    2587          16.0    70   \n18  27.0          4          97.0         88    2130          14.5    70   \n19  26.0          4          97.0         46    1835          20.5    70   \n20  25.0          4         110.0         87    2672          17.5    70   \n21  24.0          4         107.0         90    2430          14.5    70   \n22  25.0          4         104.0         95    2375          17.5    70   \n23  26.0          4         121.0        113    2234          12.5    70   \n24  21.0          6         199.0         90    2648          15.0    70   \n25  10.0          8         360.0        215    4615          14.0    70   \n26  10.0          8         307.0        200    4376          15.0    70   \n27  11.0          8         318.0        210    4382          13.5    70   \n28   9.0          8         304.0        193    4732          18.5    70   \n29  27.0          4          97.0         88    2130          14.5    71   \n30  28.0          4         140.0         90    2264          15.5    71   \n31  25.0          4         113.0         95    2228          14.0    71   \n32  25.0          4          98.0          ?    2046          19.0    71   \n33  19.0          6         232.0        100    2634          13.0    71   \n34  16.0          6         225.0        105    3439          15.5    71   \n35  17.0          6         250.0        100    3329          15.5    71   \n36  19.0          6         250.0         88    3302          15.5    71   \n37  18.0          6         232.0        100    3288          15.5    71   \n38  14.0          8         350.0        165    4209          12.0    71   \n39  14.0          8         400.0        175    4464          11.5    71   \n40  14.0          8         351.0        153    4154          13.5    71   \n41  14.0          8         318.0        150    4096          13.0    71   \n42  12.0          8         383.0        180    4955          11.5    71   \n43  13.0          8         400.0        170    4746          12.0    71   \n44  13.0          8         400.0        175    5140          12.0    71   \n45  18.0          6         258.0        110    2962          13.5    71   \n46  22.0          4         140.0         72    2408          19.0    71   \n47  19.0          6         250.0        100    3282          15.0    71   \n48  18.0          6         250.0         88    3139          14.5    71   \n49  23.0          4         122.0         86    2220          14.0    71   \n\n    origin                          name  \n0        1     chevrolet chevelle malibu  \n1        1             buick skylark 320  \n2        1            plymouth satellite  \n3        1                 amc rebel sst  \n4        1                   ford torino  \n5        1              ford galaxie 500  \n6        1              chevrolet impala  \n7        1             plymouth fury iii  \n8        1              pontiac catalina  \n9        1            amc ambassador dpl  \n10       1           dodge challenger se  \n11       1            plymouth 'cuda 340  \n12       1         chevrolet monte carlo  \n13       1       buick estate wagon (sw)  \n14       3         toyota corona mark ii  \n15       1               plymouth duster  \n16       1                    amc hornet  \n17       1                 ford maverick  \n18       3                  datsun pl510  \n19       2  volkswagen 1131 deluxe sedan  \n20       2                   peugeot 504  \n21       2                   audi 100 ls  \n22       2                      saab 99e  \n23       2                      bmw 2002  \n24       1                   amc gremlin  \n25       1                     ford f250  \n26       1                     chevy c20  \n27       1                    dodge d200  \n28       1                      hi 1200d  \n29       3                  datsun pl510  \n30       1           chevrolet vega 2300  \n31       3                 toyota corona  \n32       1                    ford pinto  \n33       1                   amc gremlin  \n34       1     plymouth satellite custom  \n35       1     chevrolet chevelle malibu  \n36       1               ford torino 500  \n37       1                   amc matador  \n38       1              chevrolet impala  \n39       1     pontiac catalina brougham  \n40       1              ford galaxie 500  \n41       1             plymouth fury iii  \n42       1             dodge monaco (sw)  \n43       1      ford country squire (sw)  \n44       1           pontiac safari (sw)  \n45       1    amc hornet sportabout (sw)  \n46       1           chevrolet vega (sw)  \n47       1              pontiac firebird  \n48       1                  ford mustang  \n49       1            mercury capri 2000  ",
      "text/html": "<div>\n<style scoped>\n    .dataframe tbody tr th:only-of-type {\n        vertical-align: middle;\n    }\n\n    .dataframe tbody tr th {\n        vertical-align: top;\n    }\n\n    .dataframe thead th {\n        text-align: right;\n    }\n</style>\n<table border=\"1\" class=\"dataframe\">\n  <thead>\n    <tr style=\"text-align: right;\">\n      <th></th>\n      <th>mpg</th>\n      <th>cylinders</th>\n      <th>displacement</th>\n      <th>horsepower</th>\n      <th>weight</th>\n      <th>acceleration</th>\n      <th>year</th>\n      <th>origin</th>\n      <th>name</th>\n    </tr>\n  </thead>\n  <tbody>\n    <tr>\n      <th>0</th>\n      <td>18.0</td>\n      <td>8</td>\n      <td>307.0</td>\n      <td>130</td>\n      <td>3504</td>\n      <td>12.0</td>\n      <td>70</td>\n      <td>1</td>\n      <td>chevrolet chevelle malibu</td>\n    </tr>\n    <tr>\n      <th>1</th>\n      <td>15.0</td>\n      <td>8</td>\n      <td>350.0</td>\n      <td>165</td>\n      <td>3693</td>\n      <td>11.5</td>\n      <td>70</td>\n      <td>1</td>\n      <td>buick skylark 320</td>\n    </tr>\n    <tr>\n      <th>2</th>\n      <td>18.0</td>\n      <td>8</td>\n      <td>318.0</td>\n      <td>150</td>\n      <td>3436</td>\n      <td>11.0</td>\n      <td>70</td>\n      <td>1</td>\n      <td>plymouth satellite</td>\n    </tr>\n    <tr>\n      <th>3</th>\n      <td>16.0</td>\n      <td>8</td>\n      <td>304.0</td>\n      <td>150</td>\n      <td>3433</td>\n      <td>12.0</td>\n      <td>70</td>\n      <td>1</td>\n      <td>amc rebel sst</td>\n    </tr>\n    <tr>\n      <th>4</th>\n      <td>17.0</td>\n      <td>8</td>\n      <td>302.0</td>\n      <td>140</td>\n      <td>3449</td>\n      <td>10.5</td>\n      <td>70</td>\n      <td>1</td>\n      <td>ford torino</td>\n    </tr>\n    <tr>\n      <th>5</th>\n      <td>15.0</td>\n      <td>8</td>\n      <td>429.0</td>\n      <td>198</td>\n      <td>4341</td>\n      <td>10.0</td>\n      <td>70</td>\n      <td>1</td>\n      <td>ford galaxie 500</td>\n    </tr>\n    <tr>\n      <th>6</th>\n      <td>14.0</td>\n      <td>8</td>\n      <td>454.0</td>\n      <td>220</td>\n      <td>4354</td>\n      <td>9.0</td>\n      <td>70</td>\n      <td>1</td>\n      <td>chevrolet impala</td>\n    </tr>\n    <tr>\n      <th>7</th>\n      <td>14.0</td>\n      <td>8</td>\n      <td>440.0</td>\n      <td>215</td>\n      <td>4312</td>\n      <td>8.5</td>\n      <td>70</td>\n      <td>1</td>\n      <td>plymouth fury iii</td>\n    </tr>\n    <tr>\n      <th>8</th>\n      <td>14.0</td>\n      <td>8</td>\n      <td>455.0</td>\n      <td>225</td>\n      <td>4425</td>\n      <td>10.0</td>\n      <td>70</td>\n      <td>1</td>\n      <td>pontiac catalina</td>\n    </tr>\n    <tr>\n      <th>9</th>\n      <td>15.0</td>\n      <td>8</td>\n      <td>390.0</td>\n      <td>190</td>\n      <td>3850</td>\n      <td>8.5</td>\n      <td>70</td>\n      <td>1</td>\n      <td>amc ambassador dpl</td>\n    </tr>\n    <tr>\n      <th>10</th>\n      <td>15.0</td>\n      <td>8</td>\n      <td>383.0</td>\n      <td>170</td>\n      <td>3563</td>\n      <td>10.0</td>\n      <td>70</td>\n      <td>1</td>\n      <td>dodge challenger se</td>\n    </tr>\n    <tr>\n      <th>11</th>\n      <td>14.0</td>\n      <td>8</td>\n      <td>340.0</td>\n      <td>160</td>\n      <td>3609</td>\n      <td>8.0</td>\n      <td>70</td>\n      <td>1</td>\n      <td>plymouth 'cuda 340</td>\n    </tr>\n    <tr>\n      <th>12</th>\n      <td>15.0</td>\n      <td>8</td>\n      <td>400.0</td>\n      <td>150</td>\n      <td>3761</td>\n      <td>9.5</td>\n      <td>70</td>\n      <td>1</td>\n      <td>chevrolet monte carlo</td>\n    </tr>\n    <tr>\n      <th>13</th>\n      <td>14.0</td>\n      <td>8</td>\n      <td>455.0</td>\n      <td>225</td>\n      <td>3086</td>\n      <td>10.0</td>\n      <td>70</td>\n      <td>1</td>\n      <td>buick estate wagon (sw)</td>\n    </tr>\n    <tr>\n      <th>14</th>\n      <td>24.0</td>\n      <td>4</td>\n      <td>113.0</td>\n      <td>95</td>\n      <td>2372</td>\n      <td>15.0</td>\n      <td>70</td>\n      <td>3</td>\n      <td>toyota corona mark ii</td>\n    </tr>\n    <tr>\n      <th>15</th>\n      <td>22.0</td>\n      <td>6</td>\n      <td>198.0</td>\n      <td>95</td>\n      <td>2833</td>\n      <td>15.5</td>\n      <td>70</td>\n      <td>1</td>\n      <td>plymouth duster</td>\n    </tr>\n    <tr>\n      <th>16</th>\n      <td>18.0</td>\n      <td>6</td>\n      <td>199.0</td>\n      <td>97</td>\n      <td>2774</td>\n      <td>15.5</td>\n      <td>70</td>\n      <td>1</td>\n      <td>amc hornet</td>\n    </tr>\n    <tr>\n      <th>17</th>\n      <td>21.0</td>\n      <td>6</td>\n      <td>200.0</td>\n      <td>85</td>\n      <td>2587</td>\n      <td>16.0</td>\n      <td>70</td>\n      <td>1</td>\n      <td>ford maverick</td>\n    </tr>\n    <tr>\n      <th>18</th>\n      <td>27.0</td>\n      <td>4</td>\n      <td>97.0</td>\n      <td>88</td>\n      <td>2130</td>\n      <td>14.5</td>\n      <td>70</td>\n      <td>3</td>\n      <td>datsun pl510</td>\n    </tr>\n    <tr>\n      <th>19</th>\n      <td>26.0</td>\n      <td>4</td>\n      <td>97.0</td>\n      <td>46</td>\n      <td>1835</td>\n      <td>20.5</td>\n      <td>70</td>\n      <td>2</td>\n      <td>volkswagen 1131 deluxe sedan</td>\n    </tr>\n    <tr>\n      <th>20</th>\n      <td>25.0</td>\n      <td>4</td>\n      <td>110.0</td>\n      <td>87</td>\n      <td>2672</td>\n      <td>17.5</td>\n      <td>70</td>\n      <td>2</td>\n      <td>peugeot 504</td>\n    </tr>\n    <tr>\n      <th>21</th>\n      <td>24.0</td>\n      <td>4</td>\n      <td>107.0</td>\n      <td>90</td>\n      <td>2430</td>\n      <td>14.5</td>\n      <td>70</td>\n      <td>2</td>\n      <td>audi 100 ls</td>\n    </tr>\n    <tr>\n      <th>22</th>\n      <td>25.0</td>\n      <td>4</td>\n      <td>104.0</td>\n      <td>95</td>\n      <td>2375</td>\n      <td>17.5</td>\n      <td>70</td>\n      <td>2</td>\n      <td>saab 99e</td>\n    </tr>\n    <tr>\n      <th>23</th>\n      <td>26.0</td>\n      <td>4</td>\n      <td>121.0</td>\n      <td>113</td>\n      <td>2234</td>\n      <td>12.5</td>\n      <td>70</td>\n      <td>2</td>\n      <td>bmw 2002</td>\n    </tr>\n    <tr>\n      <th>24</th>\n      <td>21.0</td>\n      <td>6</td>\n      <td>199.0</td>\n      <td>90</td>\n      <td>2648</td>\n      <td>15.0</td>\n      <td>70</td>\n      <td>1</td>\n      <td>amc gremlin</td>\n    </tr>\n    <tr>\n      <th>25</th>\n      <td>10.0</td>\n      <td>8</td>\n      <td>360.0</td>\n      <td>215</td>\n      <td>4615</td>\n      <td>14.0</td>\n      <td>70</td>\n      <td>1</td>\n      <td>ford f250</td>\n    </tr>\n    <tr>\n      <th>26</th>\n      <td>10.0</td>\n      <td>8</td>\n      <td>307.0</td>\n      <td>200</td>\n      <td>4376</td>\n      <td>15.0</td>\n      <td>70</td>\n      <td>1</td>\n      <td>chevy c20</td>\n    </tr>\n    <tr>\n      <th>27</th>\n      <td>11.0</td>\n      <td>8</td>\n      <td>318.0</td>\n      <td>210</td>\n      <td>4382</td>\n      <td>13.5</td>\n      <td>70</td>\n      <td>1</td>\n      <td>dodge d200</td>\n    </tr>\n    <tr>\n      <th>28</th>\n      <td>9.0</td>\n      <td>8</td>\n      <td>304.0</td>\n      <td>193</td>\n      <td>4732</td>\n      <td>18.5</td>\n      <td>70</td>\n      <td>1</td>\n      <td>hi 1200d</td>\n    </tr>\n    <tr>\n      <th>29</th>\n      <td>27.0</td>\n      <td>4</td>\n      <td>97.0</td>\n      <td>88</td>\n      <td>2130</td>\n      <td>14.5</td>\n      <td>71</td>\n      <td>3</td>\n      <td>datsun pl510</td>\n    </tr>\n    <tr>\n      <th>30</th>\n      <td>28.0</td>\n      <td>4</td>\n      <td>140.0</td>\n      <td>90</td>\n      <td>2264</td>\n      <td>15.5</td>\n      <td>71</td>\n      <td>1</td>\n      <td>chevrolet vega 2300</td>\n    </tr>\n    <tr>\n      <th>31</th>\n      <td>25.0</td>\n      <td>4</td>\n      <td>113.0</td>\n      <td>95</td>\n      <td>2228</td>\n      <td>14.0</td>\n      <td>71</td>\n      <td>3</td>\n      <td>toyota corona</td>\n    </tr>\n    <tr>\n      <th>32</th>\n      <td>25.0</td>\n      <td>4</td>\n      <td>98.0</td>\n      <td>?</td>\n      <td>2046</td>\n      <td>19.0</td>\n      <td>71</td>\n      <td>1</td>\n      <td>ford pinto</td>\n    </tr>\n    <tr>\n      <th>33</th>\n      <td>19.0</td>\n      <td>6</td>\n      <td>232.0</td>\n      <td>100</td>\n      <td>2634</td>\n      <td>13.0</td>\n      <td>71</td>\n      <td>1</td>\n      <td>amc gremlin</td>\n    </tr>\n    <tr>\n      <th>34</th>\n      <td>16.0</td>\n      <td>6</td>\n      <td>225.0</td>\n      <td>105</td>\n      <td>3439</td>\n      <td>15.5</td>\n      <td>71</td>\n      <td>1</td>\n      <td>plymouth satellite custom</td>\n    </tr>\n    <tr>\n      <th>35</th>\n      <td>17.0</td>\n      <td>6</td>\n      <td>250.0</td>\n      <td>100</td>\n      <td>3329</td>\n      <td>15.5</td>\n      <td>71</td>\n      <td>1</td>\n      <td>chevrolet chevelle malibu</td>\n    </tr>\n    <tr>\n      <th>36</th>\n      <td>19.0</td>\n      <td>6</td>\n      <td>250.0</td>\n      <td>88</td>\n      <td>3302</td>\n      <td>15.5</td>\n      <td>71</td>\n      <td>1</td>\n      <td>ford torino 500</td>\n    </tr>\n    <tr>\n      <th>37</th>\n      <td>18.0</td>\n      <td>6</td>\n      <td>232.0</td>\n      <td>100</td>\n      <td>3288</td>\n      <td>15.5</td>\n      <td>71</td>\n      <td>1</td>\n      <td>amc matador</td>\n    </tr>\n    <tr>\n      <th>38</th>\n      <td>14.0</td>\n      <td>8</td>\n      <td>350.0</td>\n      <td>165</td>\n      <td>4209</td>\n      <td>12.0</td>\n      <td>71</td>\n      <td>1</td>\n      <td>chevrolet impala</td>\n    </tr>\n    <tr>\n      <th>39</th>\n      <td>14.0</td>\n      <td>8</td>\n      <td>400.0</td>\n      <td>175</td>\n      <td>4464</td>\n      <td>11.5</td>\n      <td>71</td>\n      <td>1</td>\n      <td>pontiac catalina brougham</td>\n    </tr>\n    <tr>\n      <th>40</th>\n      <td>14.0</td>\n      <td>8</td>\n      <td>351.0</td>\n      <td>153</td>\n      <td>4154</td>\n      <td>13.5</td>\n      <td>71</td>\n      <td>1</td>\n      <td>ford galaxie 500</td>\n    </tr>\n    <tr>\n      <th>41</th>\n      <td>14.0</td>\n      <td>8</td>\n      <td>318.0</td>\n      <td>150</td>\n      <td>4096</td>\n      <td>13.0</td>\n      <td>71</td>\n      <td>1</td>\n      <td>plymouth fury iii</td>\n    </tr>\n    <tr>\n      <th>42</th>\n      <td>12.0</td>\n      <td>8</td>\n      <td>383.0</td>\n      <td>180</td>\n      <td>4955</td>\n      <td>11.5</td>\n      <td>71</td>\n      <td>1</td>\n      <td>dodge monaco (sw)</td>\n    </tr>\n    <tr>\n      <th>43</th>\n      <td>13.0</td>\n      <td>8</td>\n      <td>400.0</td>\n      <td>170</td>\n      <td>4746</td>\n      <td>12.0</td>\n      <td>71</td>\n      <td>1</td>\n      <td>ford country squire (sw)</td>\n    </tr>\n    <tr>\n      <th>44</th>\n      <td>13.0</td>\n      <td>8</td>\n      <td>400.0</td>\n      <td>175</td>\n      <td>5140</td>\n      <td>12.0</td>\n      <td>71</td>\n      <td>1</td>\n      <td>pontiac safari (sw)</td>\n    </tr>\n    <tr>\n      <th>45</th>\n      <td>18.0</td>\n      <td>6</td>\n      <td>258.0</td>\n      <td>110</td>\n      <td>2962</td>\n      <td>13.5</td>\n      <td>71</td>\n      <td>1</td>\n      <td>amc hornet sportabout (sw)</td>\n    </tr>\n    <tr>\n      <th>46</th>\n      <td>22.0</td>\n      <td>4</td>\n      <td>140.0</td>\n      <td>72</td>\n      <td>2408</td>\n      <td>19.0</td>\n      <td>71</td>\n      <td>1</td>\n      <td>chevrolet vega (sw)</td>\n    </tr>\n    <tr>\n      <th>47</th>\n      <td>19.0</td>\n      <td>6</td>\n      <td>250.0</td>\n      <td>100</td>\n      <td>3282</td>\n      <td>15.0</td>\n      <td>71</td>\n      <td>1</td>\n      <td>pontiac firebird</td>\n    </tr>\n    <tr>\n      <th>48</th>\n      <td>18.0</td>\n      <td>6</td>\n      <td>250.0</td>\n      <td>88</td>\n      <td>3139</td>\n      <td>14.5</td>\n      <td>71</td>\n      <td>1</td>\n      <td>ford mustang</td>\n    </tr>\n    <tr>\n      <th>49</th>\n      <td>23.0</td>\n      <td>4</td>\n      <td>122.0</td>\n      <td>86</td>\n      <td>2220</td>\n      <td>14.0</td>\n      <td>71</td>\n      <td>1</td>\n      <td>mercury capri 2000</td>\n    </tr>\n  </tbody>\n</table>\n</div>"
     },
     "execution_count": 11,
     "metadata": {},
     "output_type": "execute_result"
    }
   ],
   "source": [
    "auto_data.head(50)"
   ],
   "metadata": {
    "collapsed": false,
    "pycharm": {
     "name": "#%%\n"
    }
   }
  },
  {
   "cell_type": "code",
   "execution_count": 12,
   "outputs": [
    {
     "data": {
      "text/plain": "   horsepower  weight  acceleration  year\n25        215    4615          14.0    70\n26        200    4376          15.0    70\n27        210    4382          13.5    70\n28        193    4732          18.5    70\n29         88    2130          14.5    71\n30         90    2264          15.5    71\n31         95    2228          14.0    71\n32          ?    2046          19.0    71\n33        100    2634          13.0    71\n34        105    3439          15.5    71\n35        100    3329          15.5    71\n36         88    3302          15.5    71\n37        100    3288          15.5    71\n38        165    4209          12.0    71\n39        175    4464          11.5    71\n40        153    4154          13.5    71",
      "text/html": "<div>\n<style scoped>\n    .dataframe tbody tr th:only-of-type {\n        vertical-align: middle;\n    }\n\n    .dataframe tbody tr th {\n        vertical-align: top;\n    }\n\n    .dataframe thead th {\n        text-align: right;\n    }\n</style>\n<table border=\"1\" class=\"dataframe\">\n  <thead>\n    <tr style=\"text-align: right;\">\n      <th></th>\n      <th>horsepower</th>\n      <th>weight</th>\n      <th>acceleration</th>\n      <th>year</th>\n    </tr>\n  </thead>\n  <tbody>\n    <tr>\n      <th>25</th>\n      <td>215</td>\n      <td>4615</td>\n      <td>14.0</td>\n      <td>70</td>\n    </tr>\n    <tr>\n      <th>26</th>\n      <td>200</td>\n      <td>4376</td>\n      <td>15.0</td>\n      <td>70</td>\n    </tr>\n    <tr>\n      <th>27</th>\n      <td>210</td>\n      <td>4382</td>\n      <td>13.5</td>\n      <td>70</td>\n    </tr>\n    <tr>\n      <th>28</th>\n      <td>193</td>\n      <td>4732</td>\n      <td>18.5</td>\n      <td>70</td>\n    </tr>\n    <tr>\n      <th>29</th>\n      <td>88</td>\n      <td>2130</td>\n      <td>14.5</td>\n      <td>71</td>\n    </tr>\n    <tr>\n      <th>30</th>\n      <td>90</td>\n      <td>2264</td>\n      <td>15.5</td>\n      <td>71</td>\n    </tr>\n    <tr>\n      <th>31</th>\n      <td>95</td>\n      <td>2228</td>\n      <td>14.0</td>\n      <td>71</td>\n    </tr>\n    <tr>\n      <th>32</th>\n      <td>?</td>\n      <td>2046</td>\n      <td>19.0</td>\n      <td>71</td>\n    </tr>\n    <tr>\n      <th>33</th>\n      <td>100</td>\n      <td>2634</td>\n      <td>13.0</td>\n      <td>71</td>\n    </tr>\n    <tr>\n      <th>34</th>\n      <td>105</td>\n      <td>3439</td>\n      <td>15.5</td>\n      <td>71</td>\n    </tr>\n    <tr>\n      <th>35</th>\n      <td>100</td>\n      <td>3329</td>\n      <td>15.5</td>\n      <td>71</td>\n    </tr>\n    <tr>\n      <th>36</th>\n      <td>88</td>\n      <td>3302</td>\n      <td>15.5</td>\n      <td>71</td>\n    </tr>\n    <tr>\n      <th>37</th>\n      <td>100</td>\n      <td>3288</td>\n      <td>15.5</td>\n      <td>71</td>\n    </tr>\n    <tr>\n      <th>38</th>\n      <td>165</td>\n      <td>4209</td>\n      <td>12.0</td>\n      <td>71</td>\n    </tr>\n    <tr>\n      <th>39</th>\n      <td>175</td>\n      <td>4464</td>\n      <td>11.5</td>\n      <td>71</td>\n    </tr>\n    <tr>\n      <th>40</th>\n      <td>153</td>\n      <td>4154</td>\n      <td>13.5</td>\n      <td>71</td>\n    </tr>\n  </tbody>\n</table>\n</div>"
     },
     "execution_count": 12,
     "metadata": {},
     "output_type": "execute_result"
    }
   ],
   "source": [
    "auto_data.loc[25:40, 'horsepower':'year']"
   ],
   "metadata": {
    "collapsed": false,
    "pycharm": {
     "name": "#%%\n"
    }
   }
  },
  {
   "cell_type": "code",
   "execution_count": 13,
   "outputs": [
    {
     "data": {
      "text/plain": "   horsepower  weight  acceleration  year  origin\n25        215    4615          14.0    70       1\n26        200    4376          15.0    70       1\n27        210    4382          13.5    70       1\n28        193    4732          18.5    70       1\n29         88    2130          14.5    71       3\n30         90    2264          15.5    71       1\n31         95    2228          14.0    71       3\n32          ?    2046          19.0    71       1\n33        100    2634          13.0    71       1\n34        105    3439          15.5    71       1\n35        100    3329          15.5    71       1\n36         88    3302          15.5    71       1\n37        100    3288          15.5    71       1\n38        165    4209          12.0    71       1\n39        175    4464          11.5    71       1",
      "text/html": "<div>\n<style scoped>\n    .dataframe tbody tr th:only-of-type {\n        vertical-align: middle;\n    }\n\n    .dataframe tbody tr th {\n        vertical-align: top;\n    }\n\n    .dataframe thead th {\n        text-align: right;\n    }\n</style>\n<table border=\"1\" class=\"dataframe\">\n  <thead>\n    <tr style=\"text-align: right;\">\n      <th></th>\n      <th>horsepower</th>\n      <th>weight</th>\n      <th>acceleration</th>\n      <th>year</th>\n      <th>origin</th>\n    </tr>\n  </thead>\n  <tbody>\n    <tr>\n      <th>25</th>\n      <td>215</td>\n      <td>4615</td>\n      <td>14.0</td>\n      <td>70</td>\n      <td>1</td>\n    </tr>\n    <tr>\n      <th>26</th>\n      <td>200</td>\n      <td>4376</td>\n      <td>15.0</td>\n      <td>70</td>\n      <td>1</td>\n    </tr>\n    <tr>\n      <th>27</th>\n      <td>210</td>\n      <td>4382</td>\n      <td>13.5</td>\n      <td>70</td>\n      <td>1</td>\n    </tr>\n    <tr>\n      <th>28</th>\n      <td>193</td>\n      <td>4732</td>\n      <td>18.5</td>\n      <td>70</td>\n      <td>1</td>\n    </tr>\n    <tr>\n      <th>29</th>\n      <td>88</td>\n      <td>2130</td>\n      <td>14.5</td>\n      <td>71</td>\n      <td>3</td>\n    </tr>\n    <tr>\n      <th>30</th>\n      <td>90</td>\n      <td>2264</td>\n      <td>15.5</td>\n      <td>71</td>\n      <td>1</td>\n    </tr>\n    <tr>\n      <th>31</th>\n      <td>95</td>\n      <td>2228</td>\n      <td>14.0</td>\n      <td>71</td>\n      <td>3</td>\n    </tr>\n    <tr>\n      <th>32</th>\n      <td>?</td>\n      <td>2046</td>\n      <td>19.0</td>\n      <td>71</td>\n      <td>1</td>\n    </tr>\n    <tr>\n      <th>33</th>\n      <td>100</td>\n      <td>2634</td>\n      <td>13.0</td>\n      <td>71</td>\n      <td>1</td>\n    </tr>\n    <tr>\n      <th>34</th>\n      <td>105</td>\n      <td>3439</td>\n      <td>15.5</td>\n      <td>71</td>\n      <td>1</td>\n    </tr>\n    <tr>\n      <th>35</th>\n      <td>100</td>\n      <td>3329</td>\n      <td>15.5</td>\n      <td>71</td>\n      <td>1</td>\n    </tr>\n    <tr>\n      <th>36</th>\n      <td>88</td>\n      <td>3302</td>\n      <td>15.5</td>\n      <td>71</td>\n      <td>1</td>\n    </tr>\n    <tr>\n      <th>37</th>\n      <td>100</td>\n      <td>3288</td>\n      <td>15.5</td>\n      <td>71</td>\n      <td>1</td>\n    </tr>\n    <tr>\n      <th>38</th>\n      <td>165</td>\n      <td>4209</td>\n      <td>12.0</td>\n      <td>71</td>\n      <td>1</td>\n    </tr>\n    <tr>\n      <th>39</th>\n      <td>175</td>\n      <td>4464</td>\n      <td>11.5</td>\n      <td>71</td>\n      <td>1</td>\n    </tr>\n  </tbody>\n</table>\n</div>"
     },
     "execution_count": 13,
     "metadata": {},
     "output_type": "execute_result"
    }
   ],
   "source": [
    "auto_data.iloc[25:40, 3:8]"
   ],
   "metadata": {
    "collapsed": false,
    "pycharm": {
     "name": "#%%\n"
    }
   }
  },
  {
   "cell_type": "markdown",
   "metadata": {
    "pycharm": {
     "name": "#%% md\n"
    }
   },
   "source": [
    "отберите столбец 'mpg'"
   ]
  },
  {
   "cell_type": "code",
   "execution_count": 14,
   "outputs": [
    {
     "data": {
      "text/plain": "     mpg  cylinders  displacement\n25  10.0          8         360.0\n26  10.0          8         307.0\n27  11.0          8         318.0\n28   9.0          8         304.0\n29  27.0          4          97.0\n30  28.0          4         140.0\n31  25.0          4         113.0\n32  25.0          4          98.0\n33  19.0          6         232.0\n34  16.0          6         225.0\n35  17.0          6         250.0\n36  19.0          6         250.0\n37  18.0          6         232.0\n38  14.0          8         350.0\n39  14.0          8         400.0",
      "text/html": "<div>\n<style scoped>\n    .dataframe tbody tr th:only-of-type {\n        vertical-align: middle;\n    }\n\n    .dataframe tbody tr th {\n        vertical-align: top;\n    }\n\n    .dataframe thead th {\n        text-align: right;\n    }\n</style>\n<table border=\"1\" class=\"dataframe\">\n  <thead>\n    <tr style=\"text-align: right;\">\n      <th></th>\n      <th>mpg</th>\n      <th>cylinders</th>\n      <th>displacement</th>\n    </tr>\n  </thead>\n  <tbody>\n    <tr>\n      <th>25</th>\n      <td>10.0</td>\n      <td>8</td>\n      <td>360.0</td>\n    </tr>\n    <tr>\n      <th>26</th>\n      <td>10.0</td>\n      <td>8</td>\n      <td>307.0</td>\n    </tr>\n    <tr>\n      <th>27</th>\n      <td>11.0</td>\n      <td>8</td>\n      <td>318.0</td>\n    </tr>\n    <tr>\n      <th>28</th>\n      <td>9.0</td>\n      <td>8</td>\n      <td>304.0</td>\n    </tr>\n    <tr>\n      <th>29</th>\n      <td>27.0</td>\n      <td>4</td>\n      <td>97.0</td>\n    </tr>\n    <tr>\n      <th>30</th>\n      <td>28.0</td>\n      <td>4</td>\n      <td>140.0</td>\n    </tr>\n    <tr>\n      <th>31</th>\n      <td>25.0</td>\n      <td>4</td>\n      <td>113.0</td>\n    </tr>\n    <tr>\n      <th>32</th>\n      <td>25.0</td>\n      <td>4</td>\n      <td>98.0</td>\n    </tr>\n    <tr>\n      <th>33</th>\n      <td>19.0</td>\n      <td>6</td>\n      <td>232.0</td>\n    </tr>\n    <tr>\n      <th>34</th>\n      <td>16.0</td>\n      <td>6</td>\n      <td>225.0</td>\n    </tr>\n    <tr>\n      <th>35</th>\n      <td>17.0</td>\n      <td>6</td>\n      <td>250.0</td>\n    </tr>\n    <tr>\n      <th>36</th>\n      <td>19.0</td>\n      <td>6</td>\n      <td>250.0</td>\n    </tr>\n    <tr>\n      <th>37</th>\n      <td>18.0</td>\n      <td>6</td>\n      <td>232.0</td>\n    </tr>\n    <tr>\n      <th>38</th>\n      <td>14.0</td>\n      <td>8</td>\n      <td>350.0</td>\n    </tr>\n    <tr>\n      <th>39</th>\n      <td>14.0</td>\n      <td>8</td>\n      <td>400.0</td>\n    </tr>\n  </tbody>\n</table>\n</div>"
     },
     "execution_count": 14,
     "metadata": {},
     "output_type": "execute_result"
    }
   ],
   "source": [
    "auto_data.iloc[25:40, 0:3]"
   ],
   "metadata": {
    "collapsed": false,
    "pycharm": {
     "name": "#%%\n"
    }
   }
  },
  {
   "cell_type": "code",
   "execution_count": 15,
   "outputs": [
    {
     "data": {
      "text/plain": "      mpg  cylinders  displacement horsepower  weight  acceleration  year  \\\n0    18.0          8         307.0        130    3504          12.0    70   \n1    15.0          8         350.0        165    3693          11.5    70   \n2    18.0          8         318.0        150    3436          11.0    70   \n3    16.0          8         304.0        150    3433          12.0    70   \n4    17.0          8         302.0        140    3449          10.5    70   \n..    ...        ...           ...        ...     ...           ...   ...   \n392  27.0          4         140.0         86    2790          15.6    82   \n393  44.0          4          97.0         52    2130          24.6    82   \n394  32.0          4         135.0         84    2295          11.6    82   \n395  28.0          4         120.0         79    2625          18.6    82   \n396  31.0          4         119.0         82    2720          19.4    82   \n\n     origin                       name  \n0         1  chevrolet chevelle malibu  \n1         1          buick skylark 320  \n2         1         plymouth satellite  \n3         1              amc rebel sst  \n4         1                ford torino  \n..      ...                        ...  \n392       1            ford mustang gl  \n393       2                  vw pickup  \n394       1              dodge rampage  \n395       1                ford ranger  \n396       1                 chevy s-10  \n\n[387 rows x 9 columns]",
      "text/html": "<div>\n<style scoped>\n    .dataframe tbody tr th:only-of-type {\n        vertical-align: middle;\n    }\n\n    .dataframe tbody tr th {\n        vertical-align: top;\n    }\n\n    .dataframe thead th {\n        text-align: right;\n    }\n</style>\n<table border=\"1\" class=\"dataframe\">\n  <thead>\n    <tr style=\"text-align: right;\">\n      <th></th>\n      <th>mpg</th>\n      <th>cylinders</th>\n      <th>displacement</th>\n      <th>horsepower</th>\n      <th>weight</th>\n      <th>acceleration</th>\n      <th>year</th>\n      <th>origin</th>\n      <th>name</th>\n    </tr>\n  </thead>\n  <tbody>\n    <tr>\n      <th>0</th>\n      <td>18.0</td>\n      <td>8</td>\n      <td>307.0</td>\n      <td>130</td>\n      <td>3504</td>\n      <td>12.0</td>\n      <td>70</td>\n      <td>1</td>\n      <td>chevrolet chevelle malibu</td>\n    </tr>\n    <tr>\n      <th>1</th>\n      <td>15.0</td>\n      <td>8</td>\n      <td>350.0</td>\n      <td>165</td>\n      <td>3693</td>\n      <td>11.5</td>\n      <td>70</td>\n      <td>1</td>\n      <td>buick skylark 320</td>\n    </tr>\n    <tr>\n      <th>2</th>\n      <td>18.0</td>\n      <td>8</td>\n      <td>318.0</td>\n      <td>150</td>\n      <td>3436</td>\n      <td>11.0</td>\n      <td>70</td>\n      <td>1</td>\n      <td>plymouth satellite</td>\n    </tr>\n    <tr>\n      <th>3</th>\n      <td>16.0</td>\n      <td>8</td>\n      <td>304.0</td>\n      <td>150</td>\n      <td>3433</td>\n      <td>12.0</td>\n      <td>70</td>\n      <td>1</td>\n      <td>amc rebel sst</td>\n    </tr>\n    <tr>\n      <th>4</th>\n      <td>17.0</td>\n      <td>8</td>\n      <td>302.0</td>\n      <td>140</td>\n      <td>3449</td>\n      <td>10.5</td>\n      <td>70</td>\n      <td>1</td>\n      <td>ford torino</td>\n    </tr>\n    <tr>\n      <th>...</th>\n      <td>...</td>\n      <td>...</td>\n      <td>...</td>\n      <td>...</td>\n      <td>...</td>\n      <td>...</td>\n      <td>...</td>\n      <td>...</td>\n      <td>...</td>\n    </tr>\n    <tr>\n      <th>392</th>\n      <td>27.0</td>\n      <td>4</td>\n      <td>140.0</td>\n      <td>86</td>\n      <td>2790</td>\n      <td>15.6</td>\n      <td>82</td>\n      <td>1</td>\n      <td>ford mustang gl</td>\n    </tr>\n    <tr>\n      <th>393</th>\n      <td>44.0</td>\n      <td>4</td>\n      <td>97.0</td>\n      <td>52</td>\n      <td>2130</td>\n      <td>24.6</td>\n      <td>82</td>\n      <td>2</td>\n      <td>vw pickup</td>\n    </tr>\n    <tr>\n      <th>394</th>\n      <td>32.0</td>\n      <td>4</td>\n      <td>135.0</td>\n      <td>84</td>\n      <td>2295</td>\n      <td>11.6</td>\n      <td>82</td>\n      <td>1</td>\n      <td>dodge rampage</td>\n    </tr>\n    <tr>\n      <th>395</th>\n      <td>28.0</td>\n      <td>4</td>\n      <td>120.0</td>\n      <td>79</td>\n      <td>2625</td>\n      <td>18.6</td>\n      <td>82</td>\n      <td>1</td>\n      <td>ford ranger</td>\n    </tr>\n    <tr>\n      <th>396</th>\n      <td>31.0</td>\n      <td>4</td>\n      <td>119.0</td>\n      <td>82</td>\n      <td>2720</td>\n      <td>19.4</td>\n      <td>82</td>\n      <td>1</td>\n      <td>chevy s-10</td>\n    </tr>\n  </tbody>\n</table>\n<p>387 rows × 9 columns</p>\n</div>"
     },
     "execution_count": 15,
     "metadata": {},
     "output_type": "execute_result"
    }
   ],
   "source": [
    "auto_data.loc[auto_data['acceleration'] > 10]"
   ],
   "metadata": {
    "collapsed": false,
    "pycharm": {
     "name": "#%%\n"
    }
   }
  },
  {
   "cell_type": "markdown",
   "metadata": {
    "pycharm": {
     "name": "#%% md\n"
    }
   },
   "source": [
    "### 6\n",
    "\n",
    "Поменяйте имя столбца 'name' на `auto_name`.\n",
    "\n",
    "*Функции, которые могут пригодиться при решении: `.rename(columns={'староеИмя':'новоеИмя'}, inplace=True)`*"
   ]
  },
  {
   "cell_type": "code",
   "execution_count": 16,
   "outputs": [
    {
     "data": {
      "text/plain": "      mpg  cylinders  displacement horsepower  weight  acceleration  year  \\\n0    18.0          8         307.0        130    3504          12.0    70   \n1    15.0          8         350.0        165    3693          11.5    70   \n2    18.0          8         318.0        150    3436          11.0    70   \n3    16.0          8         304.0        150    3433          12.0    70   \n4    17.0          8         302.0        140    3449          10.5    70   \n..    ...        ...           ...        ...     ...           ...   ...   \n392  27.0          4         140.0         86    2790          15.6    82   \n393  44.0          4          97.0         52    2130          24.6    82   \n394  32.0          4         135.0         84    2295          11.6    82   \n395  28.0          4         120.0         79    2625          18.6    82   \n396  31.0          4         119.0         82    2720          19.4    82   \n\n     origin                  auto_name  \n0         1  chevrolet chevelle malibu  \n1         1          buick skylark 320  \n2         1         plymouth satellite  \n3         1              amc rebel sst  \n4         1                ford torino  \n..      ...                        ...  \n392       1            ford mustang gl  \n393       2                  vw pickup  \n394       1              dodge rampage  \n395       1                ford ranger  \n396       1                 chevy s-10  \n\n[397 rows x 9 columns]",
      "text/html": "<div>\n<style scoped>\n    .dataframe tbody tr th:only-of-type {\n        vertical-align: middle;\n    }\n\n    .dataframe tbody tr th {\n        vertical-align: top;\n    }\n\n    .dataframe thead th {\n        text-align: right;\n    }\n</style>\n<table border=\"1\" class=\"dataframe\">\n  <thead>\n    <tr style=\"text-align: right;\">\n      <th></th>\n      <th>mpg</th>\n      <th>cylinders</th>\n      <th>displacement</th>\n      <th>horsepower</th>\n      <th>weight</th>\n      <th>acceleration</th>\n      <th>year</th>\n      <th>origin</th>\n      <th>auto_name</th>\n    </tr>\n  </thead>\n  <tbody>\n    <tr>\n      <th>0</th>\n      <td>18.0</td>\n      <td>8</td>\n      <td>307.0</td>\n      <td>130</td>\n      <td>3504</td>\n      <td>12.0</td>\n      <td>70</td>\n      <td>1</td>\n      <td>chevrolet chevelle malibu</td>\n    </tr>\n    <tr>\n      <th>1</th>\n      <td>15.0</td>\n      <td>8</td>\n      <td>350.0</td>\n      <td>165</td>\n      <td>3693</td>\n      <td>11.5</td>\n      <td>70</td>\n      <td>1</td>\n      <td>buick skylark 320</td>\n    </tr>\n    <tr>\n      <th>2</th>\n      <td>18.0</td>\n      <td>8</td>\n      <td>318.0</td>\n      <td>150</td>\n      <td>3436</td>\n      <td>11.0</td>\n      <td>70</td>\n      <td>1</td>\n      <td>plymouth satellite</td>\n    </tr>\n    <tr>\n      <th>3</th>\n      <td>16.0</td>\n      <td>8</td>\n      <td>304.0</td>\n      <td>150</td>\n      <td>3433</td>\n      <td>12.0</td>\n      <td>70</td>\n      <td>1</td>\n      <td>amc rebel sst</td>\n    </tr>\n    <tr>\n      <th>4</th>\n      <td>17.0</td>\n      <td>8</td>\n      <td>302.0</td>\n      <td>140</td>\n      <td>3449</td>\n      <td>10.5</td>\n      <td>70</td>\n      <td>1</td>\n      <td>ford torino</td>\n    </tr>\n    <tr>\n      <th>...</th>\n      <td>...</td>\n      <td>...</td>\n      <td>...</td>\n      <td>...</td>\n      <td>...</td>\n      <td>...</td>\n      <td>...</td>\n      <td>...</td>\n      <td>...</td>\n    </tr>\n    <tr>\n      <th>392</th>\n      <td>27.0</td>\n      <td>4</td>\n      <td>140.0</td>\n      <td>86</td>\n      <td>2790</td>\n      <td>15.6</td>\n      <td>82</td>\n      <td>1</td>\n      <td>ford mustang gl</td>\n    </tr>\n    <tr>\n      <th>393</th>\n      <td>44.0</td>\n      <td>4</td>\n      <td>97.0</td>\n      <td>52</td>\n      <td>2130</td>\n      <td>24.6</td>\n      <td>82</td>\n      <td>2</td>\n      <td>vw pickup</td>\n    </tr>\n    <tr>\n      <th>394</th>\n      <td>32.0</td>\n      <td>4</td>\n      <td>135.0</td>\n      <td>84</td>\n      <td>2295</td>\n      <td>11.6</td>\n      <td>82</td>\n      <td>1</td>\n      <td>dodge rampage</td>\n    </tr>\n    <tr>\n      <th>395</th>\n      <td>28.0</td>\n      <td>4</td>\n      <td>120.0</td>\n      <td>79</td>\n      <td>2625</td>\n      <td>18.6</td>\n      <td>82</td>\n      <td>1</td>\n      <td>ford ranger</td>\n    </tr>\n    <tr>\n      <th>396</th>\n      <td>31.0</td>\n      <td>4</td>\n      <td>119.0</td>\n      <td>82</td>\n      <td>2720</td>\n      <td>19.4</td>\n      <td>82</td>\n      <td>1</td>\n      <td>chevy s-10</td>\n    </tr>\n  </tbody>\n</table>\n<p>397 rows × 9 columns</p>\n</div>"
     },
     "execution_count": 16,
     "metadata": {},
     "output_type": "execute_result"
    }
   ],
   "source": [
    "auto_data.rename(columns={'name':'auto_name'})"
   ],
   "metadata": {
    "collapsed": false,
    "pycharm": {
     "name": "#%%\n"
    }
   }
  },
  {
   "cell_type": "markdown",
   "metadata": {
    "pycharm": {
     "name": "#%% md\n"
    }
   },
   "source": [
    "### 7\n",
    "\n",
    "Вычислите средний вес машин (переменная weight).\n",
    "\n",
    "*Функции, которые могут пригодиться при решении: `.mean()`*\n",
    "\n",
    "*Другие описательные статистики:* https://pandas.pydata.org/pandas-docs/stable/reference/frame.html#computations-descriptive-stats"
   ]
  },
  {
   "cell_type": "code",
   "execution_count": 17,
   "outputs": [
    {
     "data": {
      "text/plain": "2970.2619647355164"
     },
     "execution_count": 17,
     "metadata": {},
     "output_type": "execute_result"
    }
   ],
   "source": [
    "auto_data.weight.mean()"
   ],
   "metadata": {
    "collapsed": false,
    "pycharm": {
     "name": "#%%\n"
    }
   }
  },
  {
   "cell_type": "markdown",
   "metadata": {
    "pycharm": {
     "name": "#%% md\n"
    }
   },
   "source": [
    "### 8\n",
    "\n",
    "Используя метод `groupby`, подсчитайте средний вес машин ('weight') для различных \n",
    "источников происхождения машины (`origin`).  \n",
    "\n",
    "Проделайте аналогичную процедуру для различных значений столбца расход топлива `mpg`\n",
    "\n",
    "*Подсказка:*\n",
    "`data['столбец1'].groupby(data['столбец2']).mean()`  *-- расчет средних значений столбца1 по группам из столбца2*"
   ]
  },
  {
   "cell_type": "code",
   "execution_count": 18,
   "outputs": [
    {
     "data": {
      "text/plain": "origin\n1    3363.250000\n2    2423.300000\n3    2221.227848\nName: weight, dtype: float64"
     },
     "execution_count": 18,
     "metadata": {},
     "output_type": "execute_result"
    }
   ],
   "source": [
    "auto_data['weight'].groupby(auto_data['origin']).mean()"
   ],
   "metadata": {
    "collapsed": false,
    "pycharm": {
     "name": "#%%\n"
    }
   }
  },
  {
   "cell_type": "code",
   "execution_count": 19,
   "outputs": [
    {
     "data": {
      "text/plain": "acceleration\n8.0     3609.00\n8.5     4081.00\n9.0     4354.00\n9.5     4019.50\n10.0    3853.75\n         ...   \n22.2    2727.50\n23.5    2254.00\n23.7    2335.00\n24.6    2130.00\n24.8    3190.00\nName: weight, Length: 95, dtype: float64"
     },
     "execution_count": 19,
     "metadata": {},
     "output_type": "execute_result"
    }
   ],
   "source": [
    "auto_data['weight'].groupby(auto_data['acceleration']).mean()"
   ],
   "metadata": {
    "collapsed": false,
    "pycharm": {
     "name": "#%%\n"
    }
   }
  },
  {
   "cell_type": "markdown",
   "metadata": {
    "pycharm": {
     "name": "#%% md\n"
    }
   },
   "source": [
    "### Вопросы для самопроверки:\n",
    "* Как считать данные из файла csv?\n",
    "* Выведите количество записей, предикторов.\n",
    "* Выведите первые 5 записей.\n",
    "* Выведите последние 5 записей.\n",
    "* Выведите записи с первой по 200-ую.\n",
    "* В каких предикторах есть пропущенные значения? \n",
    "* Выведите типы данных у предикторов.\n",
    "* Какие из атрибутов количественные, а какие категориальные?\n",
    "* Выведите описательную статистику для каждого из непрерывных количественных атриьутов.\n",
    "* Определите целевую переменную, тип целевой переменной.\n",
    "* Какие из атрибутов иогут быть полезными для предсказания целевой переменной?\n",
    "\n"
   ]
  },
  {
   "cell_type": "markdown",
   "metadata": {
    "pycharm": {
     "name": "#%% md\n"
    }
   },
   "source": [
    "Домашнее задание\n",
    "* Выбрать один из датасетов Colledge или Boston\n",
    "* Провести анализ по примеру"
   ]
  }
 ],
 "metadata": {
  "kernelspec": {
   "display_name": "Python 3",
   "language": "python",
   "name": "python3"
  },
  "language_info": {
   "codemirror_mode": {
    "name": "ipython",
    "version": 3
   },
   "file_extension": ".py",
   "mimetype": "text/x-python",
   "name": "python",
   "nbconvert_exporter": "python",
   "pygments_lexer": "ipython3",
   "version": "3.8.5"
  }
 },
 "nbformat": 4,
 "nbformat_minor": 4
}